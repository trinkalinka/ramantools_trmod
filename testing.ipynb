{
 "cells": [
  {
   "cell_type": "code",
   "execution_count": 1,
   "metadata": {},
   "outputs": [],
   "source": [
    "%load_ext autoreload\n",
    "%autoreload 2"
   ]
  },
  {
   "cell_type": "code",
   "execution_count": 2,
   "metadata": {},
   "outputs": [
    {
     "data": {
      "application/javascript": "(function(root) {\n  function now() {\n    return new Date();\n  }\n\n  var force = true;\n  var py_version = '3.2.2'.replace('rc', '-rc.').replace('.dev', '-dev.');\n  var is_dev = py_version.indexOf(\"+\") !== -1 || py_version.indexOf(\"-\") !== -1;\n  var reloading = false;\n  var Bokeh = root.Bokeh;\n  var bokeh_loaded = Bokeh != null && (Bokeh.version === py_version || (Bokeh.versions !== undefined && Bokeh.versions.has(py_version)));\n\n  if (typeof (root._bokeh_timeout) === \"undefined\" || force) {\n    root._bokeh_timeout = Date.now() + 5000;\n    root._bokeh_failed_load = false;\n  }\n\n  function run_callbacks() {\n    try {\n      root._bokeh_onload_callbacks.forEach(function(callback) {\n        if (callback != null)\n          callback();\n      });\n    } finally {\n      delete root._bokeh_onload_callbacks;\n    }\n    console.debug(\"Bokeh: all callbacks have finished\");\n  }\n\n  function load_libs(css_urls, js_urls, js_modules, js_exports, callback) {\n    if (css_urls == null) css_urls = [];\n    if (js_urls == null) js_urls = [];\n    if (js_modules == null) js_modules = [];\n    if (js_exports == null) js_exports = {};\n\n    root._bokeh_onload_callbacks.push(callback);\n\n    if (root._bokeh_is_loading > 0) {\n      console.debug(\"Bokeh: BokehJS is being loaded, scheduling callback at\", now());\n      return null;\n    }\n    if (js_urls.length === 0 && js_modules.length === 0 && Object.keys(js_exports).length === 0) {\n      run_callbacks();\n      return null;\n    }\n    if (!reloading) {\n      console.debug(\"Bokeh: BokehJS not loaded, scheduling load and callback at\", now());\n    }\n\n    function on_load() {\n      root._bokeh_is_loading--;\n      if (root._bokeh_is_loading === 0) {\n        console.debug(\"Bokeh: all BokehJS libraries/stylesheets loaded\");\n        run_callbacks()\n      }\n    }\n    window._bokeh_on_load = on_load\n\n    function on_error() {\n      console.error(\"failed to load \" + url);\n    }\n\n    var skip = [];\n    if (window.requirejs) {\n      window.requirejs.config({'packages': {}, 'paths': {'jspanel': 'https://cdn.jsdelivr.net/npm/jspanel4@4.12.0/dist/jspanel', 'jspanel-modal': 'https://cdn.jsdelivr.net/npm/jspanel4@4.12.0/dist/extensions/modal/jspanel.modal', 'jspanel-tooltip': 'https://cdn.jsdelivr.net/npm/jspanel4@4.12.0/dist/extensions/tooltip/jspanel.tooltip', 'jspanel-hint': 'https://cdn.jsdelivr.net/npm/jspanel4@4.12.0/dist/extensions/hint/jspanel.hint', 'jspanel-layout': 'https://cdn.jsdelivr.net/npm/jspanel4@4.12.0/dist/extensions/layout/jspanel.layout', 'jspanel-contextmenu': 'https://cdn.jsdelivr.net/npm/jspanel4@4.12.0/dist/extensions/contextmenu/jspanel.contextmenu', 'jspanel-dock': 'https://cdn.jsdelivr.net/npm/jspanel4@4.12.0/dist/extensions/dock/jspanel.dock', 'gridstack': 'https://cdn.jsdelivr.net/npm/gridstack@7.2.3/dist/gridstack-all', 'notyf': 'https://cdn.jsdelivr.net/npm/notyf@3/notyf.min'}, 'shim': {'jspanel': {'exports': 'jsPanel'}, 'gridstack': {'exports': 'GridStack'}}});\n      require([\"jspanel\"], function(jsPanel) {\n\twindow.jsPanel = jsPanel\n\ton_load()\n      })\n      require([\"jspanel-modal\"], function() {\n\ton_load()\n      })\n      require([\"jspanel-tooltip\"], function() {\n\ton_load()\n      })\n      require([\"jspanel-hint\"], function() {\n\ton_load()\n      })\n      require([\"jspanel-layout\"], function() {\n\ton_load()\n      })\n      require([\"jspanel-contextmenu\"], function() {\n\ton_load()\n      })\n      require([\"jspanel-dock\"], function() {\n\ton_load()\n      })\n      require([\"gridstack\"], function(GridStack) {\n\twindow.GridStack = GridStack\n\ton_load()\n      })\n      require([\"notyf\"], function() {\n\ton_load()\n      })\n      root._bokeh_is_loading = css_urls.length + 9;\n    } else {\n      root._bokeh_is_loading = css_urls.length + js_urls.length + js_modules.length + Object.keys(js_exports).length;\n    }\n\n    var existing_stylesheets = []\n    var links = document.getElementsByTagName('link')\n    for (var i = 0; i < links.length; i++) {\n      var link = links[i]\n      if (link.href != null) {\n\texisting_stylesheets.push(link.href)\n      }\n    }\n    for (var i = 0; i < css_urls.length; i++) {\n      var url = css_urls[i];\n      if (existing_stylesheets.indexOf(url) !== -1) {\n\ton_load()\n\tcontinue;\n      }\n      const element = document.createElement(\"link\");\n      element.onload = on_load;\n      element.onerror = on_error;\n      element.rel = \"stylesheet\";\n      element.type = \"text/css\";\n      element.href = url;\n      console.debug(\"Bokeh: injecting link tag for BokehJS stylesheet: \", url);\n      document.body.appendChild(element);\n    }    if (((window['jsPanel'] !== undefined) && (!(window['jsPanel'] instanceof HTMLElement))) || window.requirejs) {\n      var urls = ['https://cdn.holoviz.org/panel/1.2.1/dist/bundled/floatpanel/jspanel4@4.12.0/dist/jspanel.js', 'https://cdn.holoviz.org/panel/1.2.1/dist/bundled/floatpanel/jspanel4@4.12.0/dist/extensions/modal/jspanel.modal.js', 'https://cdn.holoviz.org/panel/1.2.1/dist/bundled/floatpanel/jspanel4@4.12.0/dist/extensions/tooltip/jspanel.tooltip.js', 'https://cdn.holoviz.org/panel/1.2.1/dist/bundled/floatpanel/jspanel4@4.12.0/dist/extensions/hint/jspanel.hint.js', 'https://cdn.holoviz.org/panel/1.2.1/dist/bundled/floatpanel/jspanel4@4.12.0/dist/extensions/layout/jspanel.layout.js', 'https://cdn.holoviz.org/panel/1.2.1/dist/bundled/floatpanel/jspanel4@4.12.0/dist/extensions/contextmenu/jspanel.contextmenu.js', 'https://cdn.holoviz.org/panel/1.2.1/dist/bundled/floatpanel/jspanel4@4.12.0/dist/extensions/dock/jspanel.dock.js'];\n      for (var i = 0; i < urls.length; i++) {\n        skip.push(urls[i])\n      }\n    }    if (((window['GridStack'] !== undefined) && (!(window['GridStack'] instanceof HTMLElement))) || window.requirejs) {\n      var urls = ['https://cdn.holoviz.org/panel/1.2.1/dist/bundled/gridstack/gridstack@7.2.3/dist/gridstack-all.js'];\n      for (var i = 0; i < urls.length; i++) {\n        skip.push(urls[i])\n      }\n    }    if (((window['Notyf'] !== undefined) && (!(window['Notyf'] instanceof HTMLElement))) || window.requirejs) {\n      var urls = ['https://cdn.holoviz.org/panel/1.2.1/dist/bundled/notificationarea/notyf@3/notyf.min.js'];\n      for (var i = 0; i < urls.length; i++) {\n        skip.push(urls[i])\n      }\n    }    var existing_scripts = []\n    var scripts = document.getElementsByTagName('script')\n    for (var i = 0; i < scripts.length; i++) {\n      var script = scripts[i]\n      if (script.src != null) {\n\texisting_scripts.push(script.src)\n      }\n    }\n    for (var i = 0; i < js_urls.length; i++) {\n      var url = js_urls[i];\n      if (skip.indexOf(url) !== -1 || existing_scripts.indexOf(url) !== -1) {\n\tif (!window.requirejs) {\n\t  on_load();\n\t}\n\tcontinue;\n      }\n      var element = document.createElement('script');\n      element.onload = on_load;\n      element.onerror = on_error;\n      element.async = false;\n      element.src = url;\n      console.debug(\"Bokeh: injecting script tag for BokehJS library: \", url);\n      document.head.appendChild(element);\n    }\n    for (var i = 0; i < js_modules.length; i++) {\n      var url = js_modules[i];\n      if (skip.indexOf(url) !== -1 || existing_scripts.indexOf(url) !== -1) {\n\tif (!window.requirejs) {\n\t  on_load();\n\t}\n\tcontinue;\n      }\n      var element = document.createElement('script');\n      element.onload = on_load;\n      element.onerror = on_error;\n      element.async = false;\n      element.src = url;\n      element.type = \"module\";\n      console.debug(\"Bokeh: injecting script tag for BokehJS library: \", url);\n      document.head.appendChild(element);\n    }\n    for (const name in js_exports) {\n      var url = js_exports[name];\n      if (skip.indexOf(url) >= 0 || root[name] != null) {\n\tif (!window.requirejs) {\n\t  on_load();\n\t}\n\tcontinue;\n      }\n      var element = document.createElement('script');\n      element.onerror = on_error;\n      element.async = false;\n      element.type = \"module\";\n      console.debug(\"Bokeh: injecting script tag for BokehJS library: \", url);\n      element.textContent = `\n      import ${name} from \"${url}\"\n      window.${name} = ${name}\n      window._bokeh_on_load()\n      `\n      document.head.appendChild(element);\n    }\n    if (!js_urls.length && !js_modules.length) {\n      on_load()\n    }\n  };\n\n  function inject_raw_css(css) {\n    const element = document.createElement(\"style\");\n    element.appendChild(document.createTextNode(css));\n    document.body.appendChild(element);\n  }\n\n  var js_urls = [\"https://cdn.bokeh.org/bokeh/release/bokeh-3.2.2.min.js\", \"https://cdn.bokeh.org/bokeh/release/bokeh-gl-3.2.2.min.js\", \"https://cdn.bokeh.org/bokeh/release/bokeh-widgets-3.2.2.min.js\", \"https://cdn.bokeh.org/bokeh/release/bokeh-tables-3.2.2.min.js\", \"https://cdn.holoviz.org/panel/1.2.1/dist/panel.min.js\"];\n  var js_modules = [];\n  var js_exports = {};\n  var css_urls = [];\n  var inline_js = [    function(Bokeh) {\n      Bokeh.set_log_level(\"info\");\n    },\nfunction(Bokeh) {} // ensure no trailing comma for IE\n  ];\n\n  function run_inline_js() {\n    if ((root.Bokeh !== undefined) || (force === true)) {\n      for (var i = 0; i < inline_js.length; i++) {\n        inline_js[i].call(root, root.Bokeh);\n      }\n      // Cache old bokeh versions\n      if (Bokeh != undefined && !reloading) {\n\tvar NewBokeh = root.Bokeh;\n\tif (Bokeh.versions === undefined) {\n\t  Bokeh.versions = new Map();\n\t}\n\tif (NewBokeh.version !== Bokeh.version) {\n\t  Bokeh.versions.set(NewBokeh.version, NewBokeh)\n\t}\n\troot.Bokeh = Bokeh;\n      }} else if (Date.now() < root._bokeh_timeout) {\n      setTimeout(run_inline_js, 100);\n    } else if (!root._bokeh_failed_load) {\n      console.log(\"Bokeh: BokehJS failed to load within specified timeout.\");\n      root._bokeh_failed_load = true;\n    }\n    root._bokeh_is_initializing = false\n  }\n\n  function load_or_wait() {\n    // Implement a backoff loop that tries to ensure we do not load multiple\n    // versions of Bokeh and its dependencies at the same time.\n    // In recent versions we use the root._bokeh_is_initializing flag\n    // to determine whether there is an ongoing attempt to initialize\n    // bokeh, however for backward compatibility we also try to ensure\n    // that we do not start loading a newer (Panel>=1.0 and Bokeh>3) version\n    // before older versions are fully initialized.\n    if (root._bokeh_is_initializing && Date.now() > root._bokeh_timeout) {\n      root._bokeh_is_initializing = false;\n      root._bokeh_onload_callbacks = undefined;\n      console.log(\"Bokeh: BokehJS was loaded multiple times but one version failed to initialize.\");\n      load_or_wait();\n    } else if (root._bokeh_is_initializing || (typeof root._bokeh_is_initializing === \"undefined\" && root._bokeh_onload_callbacks !== undefined)) {\n      setTimeout(load_or_wait, 100);\n    } else {\n      Bokeh = root.Bokeh;\n      bokeh_loaded = Bokeh != null && (Bokeh.version === py_version || (Bokeh.versions !== undefined && Bokeh.versions.has(py_version)));\n      root._bokeh_is_initializing = true\n      root._bokeh_onload_callbacks = []\n      if (!reloading && (!bokeh_loaded || is_dev)) {\n\troot.Bokeh = undefined;\n      }\n      load_libs(css_urls, js_urls, js_modules, js_exports, function() {\n\tconsole.debug(\"Bokeh: BokehJS plotting callback run at\", now());\n\trun_inline_js();\n      });\n    }\n  }\n  // Give older versions of the autoload script a head-start to ensure\n  // they initialize before we start loading newer version.\n  setTimeout(load_or_wait, 100)\n}(window));",
      "application/vnd.holoviews_load.v0+json": ""
     },
     "metadata": {},
     "output_type": "display_data"
    },
    {
     "data": {
      "application/javascript": "\nif ((window.PyViz === undefined) || (window.PyViz instanceof HTMLElement)) {\n  window.PyViz = {comms: {}, comm_status:{}, kernels:{}, receivers: {}, plot_index: []}\n}\n\n\n    function JupyterCommManager() {\n    }\n\n    JupyterCommManager.prototype.register_target = function(plot_id, comm_id, msg_handler) {\n      if (window.comm_manager || ((window.Jupyter !== undefined) && (Jupyter.notebook.kernel != null))) {\n        var comm_manager = window.comm_manager || Jupyter.notebook.kernel.comm_manager;\n        comm_manager.register_target(comm_id, function(comm) {\n          comm.on_msg(msg_handler);\n        });\n      } else if ((plot_id in window.PyViz.kernels) && (window.PyViz.kernels[plot_id])) {\n        window.PyViz.kernels[plot_id].registerCommTarget(comm_id, function(comm) {\n          comm.onMsg = msg_handler;\n        });\n      } else if (typeof google != 'undefined' && google.colab.kernel != null) {\n        google.colab.kernel.comms.registerTarget(comm_id, (comm) => {\n          var messages = comm.messages[Symbol.asyncIterator]();\n          function processIteratorResult(result) {\n            var message = result.value;\n            console.log(message)\n            var content = {data: message.data, comm_id};\n            var buffers = []\n            for (var buffer of message.buffers || []) {\n              buffers.push(new DataView(buffer))\n            }\n            var metadata = message.metadata || {};\n            var msg = {content, buffers, metadata}\n            msg_handler(msg);\n            return messages.next().then(processIteratorResult);\n          }\n          return messages.next().then(processIteratorResult);\n        })\n      }\n    }\n\n    JupyterCommManager.prototype.get_client_comm = function(plot_id, comm_id, msg_handler) {\n      if (comm_id in window.PyViz.comms) {\n        return window.PyViz.comms[comm_id];\n      } else if (window.comm_manager || ((window.Jupyter !== undefined) && (Jupyter.notebook.kernel != null))) {\n        var comm_manager = window.comm_manager || Jupyter.notebook.kernel.comm_manager;\n        var comm = comm_manager.new_comm(comm_id, {}, {}, {}, comm_id);\n        if (msg_handler) {\n          comm.on_msg(msg_handler);\n        }\n      } else if ((plot_id in window.PyViz.kernels) && (window.PyViz.kernels[plot_id])) {\n        var comm = window.PyViz.kernels[plot_id].connectToComm(comm_id);\n        comm.open();\n        if (msg_handler) {\n          comm.onMsg = msg_handler;\n        }\n      } else if (typeof google != 'undefined' && google.colab.kernel != null) {\n        var comm_promise = google.colab.kernel.comms.open(comm_id)\n        comm_promise.then((comm) => {\n          window.PyViz.comms[comm_id] = comm;\n          if (msg_handler) {\n            var messages = comm.messages[Symbol.asyncIterator]();\n            function processIteratorResult(result) {\n              var message = result.value;\n              var content = {data: message.data};\n              var metadata = message.metadata || {comm_id};\n              var msg = {content, metadata}\n              msg_handler(msg);\n              return messages.next().then(processIteratorResult);\n            }\n            return messages.next().then(processIteratorResult);\n          }\n        }) \n        var sendClosure = (data, metadata, buffers, disposeOnDone) => {\n          return comm_promise.then((comm) => {\n            comm.send(data, metadata, buffers, disposeOnDone);\n          });\n        };\n        var comm = {\n          send: sendClosure\n        };\n      }\n      window.PyViz.comms[comm_id] = comm;\n      return comm;\n    }\n    window.PyViz.comm_manager = new JupyterCommManager();\n    \n\n\nvar JS_MIME_TYPE = 'application/javascript';\nvar HTML_MIME_TYPE = 'text/html';\nvar EXEC_MIME_TYPE = 'application/vnd.holoviews_exec.v0+json';\nvar CLASS_NAME = 'output';\n\n/**\n * Render data to the DOM node\n */\nfunction render(props, node) {\n  var div = document.createElement(\"div\");\n  var script = document.createElement(\"script\");\n  node.appendChild(div);\n  node.appendChild(script);\n}\n\n/**\n * Handle when a new output is added\n */\nfunction handle_add_output(event, handle) {\n  var output_area = handle.output_area;\n  var output = handle.output;\n  if ((output.data == undefined) || (!output.data.hasOwnProperty(EXEC_MIME_TYPE))) {\n    return\n  }\n  var id = output.metadata[EXEC_MIME_TYPE][\"id\"];\n  var toinsert = output_area.element.find(\".\" + CLASS_NAME.split(' ')[0]);\n  if (id !== undefined) {\n    var nchildren = toinsert.length;\n    var html_node = toinsert[nchildren-1].children[0];\n    html_node.innerHTML = output.data[HTML_MIME_TYPE];\n    var scripts = [];\n    var nodelist = html_node.querySelectorAll(\"script\");\n    for (var i in nodelist) {\n      if (nodelist.hasOwnProperty(i)) {\n        scripts.push(nodelist[i])\n      }\n    }\n\n    scripts.forEach( function (oldScript) {\n      var newScript = document.createElement(\"script\");\n      var attrs = [];\n      var nodemap = oldScript.attributes;\n      for (var j in nodemap) {\n        if (nodemap.hasOwnProperty(j)) {\n          attrs.push(nodemap[j])\n        }\n      }\n      attrs.forEach(function(attr) { newScript.setAttribute(attr.name, attr.value) });\n      newScript.appendChild(document.createTextNode(oldScript.innerHTML));\n      oldScript.parentNode.replaceChild(newScript, oldScript);\n    });\n    if (JS_MIME_TYPE in output.data) {\n      toinsert[nchildren-1].children[1].textContent = output.data[JS_MIME_TYPE];\n    }\n    output_area._hv_plot_id = id;\n    if ((window.Bokeh !== undefined) && (id in Bokeh.index)) {\n      window.PyViz.plot_index[id] = Bokeh.index[id];\n    } else {\n      window.PyViz.plot_index[id] = null;\n    }\n  } else if (output.metadata[EXEC_MIME_TYPE][\"server_id\"] !== undefined) {\n    var bk_div = document.createElement(\"div\");\n    bk_div.innerHTML = output.data[HTML_MIME_TYPE];\n    var script_attrs = bk_div.children[0].attributes;\n    for (var i = 0; i < script_attrs.length; i++) {\n      toinsert[toinsert.length - 1].childNodes[1].setAttribute(script_attrs[i].name, script_attrs[i].value);\n    }\n    // store reference to server id on output_area\n    output_area._bokeh_server_id = output.metadata[EXEC_MIME_TYPE][\"server_id\"];\n  }\n}\n\n/**\n * Handle when an output is cleared or removed\n */\nfunction handle_clear_output(event, handle) {\n  var id = handle.cell.output_area._hv_plot_id;\n  var server_id = handle.cell.output_area._bokeh_server_id;\n  if (((id === undefined) || !(id in PyViz.plot_index)) && (server_id !== undefined)) { return; }\n  var comm = window.PyViz.comm_manager.get_client_comm(\"hv-extension-comm\", \"hv-extension-comm\", function () {});\n  if (server_id !== null) {\n    comm.send({event_type: 'server_delete', 'id': server_id});\n    return;\n  } else if (comm !== null) {\n    comm.send({event_type: 'delete', 'id': id});\n  }\n  delete PyViz.plot_index[id];\n  if ((window.Bokeh !== undefined) & (id in window.Bokeh.index)) {\n    var doc = window.Bokeh.index[id].model.document\n    doc.clear();\n    const i = window.Bokeh.documents.indexOf(doc);\n    if (i > -1) {\n      window.Bokeh.documents.splice(i, 1);\n    }\n  }\n}\n\n/**\n * Handle kernel restart event\n */\nfunction handle_kernel_cleanup(event, handle) {\n  delete PyViz.comms[\"hv-extension-comm\"];\n  window.PyViz.plot_index = {}\n}\n\n/**\n * Handle update_display_data messages\n */\nfunction handle_update_output(event, handle) {\n  handle_clear_output(event, {cell: {output_area: handle.output_area}})\n  handle_add_output(event, handle)\n}\n\nfunction register_renderer(events, OutputArea) {\n  function append_mime(data, metadata, element) {\n    // create a DOM node to render to\n    var toinsert = this.create_output_subarea(\n    metadata,\n    CLASS_NAME,\n    EXEC_MIME_TYPE\n    );\n    this.keyboard_manager.register_events(toinsert);\n    // Render to node\n    var props = {data: data, metadata: metadata[EXEC_MIME_TYPE]};\n    render(props, toinsert[0]);\n    element.append(toinsert);\n    return toinsert\n  }\n\n  events.on('output_added.OutputArea', handle_add_output);\n  events.on('output_updated.OutputArea', handle_update_output);\n  events.on('clear_output.CodeCell', handle_clear_output);\n  events.on('delete.Cell', handle_clear_output);\n  events.on('kernel_ready.Kernel', handle_kernel_cleanup);\n\n  OutputArea.prototype.register_mime_type(EXEC_MIME_TYPE, append_mime, {\n    safe: true,\n    index: 0\n  });\n}\n\nif (window.Jupyter !== undefined) {\n  try {\n    var events = require('base/js/events');\n    var OutputArea = require('notebook/js/outputarea').OutputArea;\n    if (OutputArea.prototype.mime_types().indexOf(EXEC_MIME_TYPE) == -1) {\n      register_renderer(events, OutputArea);\n    }\n  } catch(err) {\n  }\n}\n",
      "application/vnd.holoviews_load.v0+json": ""
     },
     "metadata": {},
     "output_type": "display_data"
    },
    {
     "data": {
      "text/html": [
       "<style>*[data-root-id],\n",
       "*[data-root-id] > * {\n",
       "  box-sizing: border-box;\n",
       "  font-family: var(--jp-ui-font-family);\n",
       "  font-size: var(--jp-ui-font-size1);\n",
       "  color: var(--vscode-editor-foreground, var(--jp-ui-font-color1));\n",
       "}\n",
       "\n",
       "/* Override VSCode background color */\n",
       ".cell-output-ipywidget-background:has(\n",
       "    > .cell-output-ipywidget-background > .lm-Widget > *[data-root-id]\n",
       "  ),\n",
       ".cell-output-ipywidget-background:has(> .lm-Widget > *[data-root-id]) {\n",
       "  background-color: transparent !important;\n",
       "}\n",
       "</style>"
      ]
     },
     "metadata": {},
     "output_type": "display_data"
    }
   ],
   "source": [
    "import glob, sys\n",
    "sys.path.insert(0, './')\n",
    "import ramantools as rt\n",
    "\n",
    "import pylab as pl\n",
    "import numpy as np\n",
    "import xarray as xr\n",
    "\n",
    "import hvplot.xarray\n",
    "import holoviews as hv\n",
    "from holoviews import dim, opts\n",
    "import panel as pn"
   ]
  },
  {
   "cell_type": "code",
   "execution_count": 3,
   "metadata": {},
   "outputs": [
    {
     "data": {
      "application/javascript": "(function(root) {\n  function now() {\n    return new Date();\n  }\n\n  var force = true;\n  var py_version = '3.2.2'.replace('rc', '-rc.').replace('.dev', '-dev.');\n  var is_dev = py_version.indexOf(\"+\") !== -1 || py_version.indexOf(\"-\") !== -1;\n  var reloading = false;\n  var Bokeh = root.Bokeh;\n  var bokeh_loaded = Bokeh != null && (Bokeh.version === py_version || (Bokeh.versions !== undefined && Bokeh.versions.has(py_version)));\n\n  if (typeof (root._bokeh_timeout) === \"undefined\" || force) {\n    root._bokeh_timeout = Date.now() + 5000;\n    root._bokeh_failed_load = false;\n  }\n\n  function run_callbacks() {\n    try {\n      root._bokeh_onload_callbacks.forEach(function(callback) {\n        if (callback != null)\n          callback();\n      });\n    } finally {\n      delete root._bokeh_onload_callbacks;\n    }\n    console.debug(\"Bokeh: all callbacks have finished\");\n  }\n\n  function load_libs(css_urls, js_urls, js_modules, js_exports, callback) {\n    if (css_urls == null) css_urls = [];\n    if (js_urls == null) js_urls = [];\n    if (js_modules == null) js_modules = [];\n    if (js_exports == null) js_exports = {};\n\n    root._bokeh_onload_callbacks.push(callback);\n\n    if (root._bokeh_is_loading > 0) {\n      console.debug(\"Bokeh: BokehJS is being loaded, scheduling callback at\", now());\n      return null;\n    }\n    if (js_urls.length === 0 && js_modules.length === 0 && Object.keys(js_exports).length === 0) {\n      run_callbacks();\n      return null;\n    }\n    if (!reloading) {\n      console.debug(\"Bokeh: BokehJS not loaded, scheduling load and callback at\", now());\n    }\n\n    function on_load() {\n      root._bokeh_is_loading--;\n      if (root._bokeh_is_loading === 0) {\n        console.debug(\"Bokeh: all BokehJS libraries/stylesheets loaded\");\n        run_callbacks()\n      }\n    }\n    window._bokeh_on_load = on_load\n\n    function on_error() {\n      console.error(\"failed to load \" + url);\n    }\n\n    var skip = [];\n    if (window.requirejs) {\n      window.requirejs.config({'packages': {}, 'paths': {'jspanel': 'https://cdn.jsdelivr.net/npm/jspanel4@4.12.0/dist/jspanel', 'jspanel-modal': 'https://cdn.jsdelivr.net/npm/jspanel4@4.12.0/dist/extensions/modal/jspanel.modal', 'jspanel-tooltip': 'https://cdn.jsdelivr.net/npm/jspanel4@4.12.0/dist/extensions/tooltip/jspanel.tooltip', 'jspanel-hint': 'https://cdn.jsdelivr.net/npm/jspanel4@4.12.0/dist/extensions/hint/jspanel.hint', 'jspanel-layout': 'https://cdn.jsdelivr.net/npm/jspanel4@4.12.0/dist/extensions/layout/jspanel.layout', 'jspanel-contextmenu': 'https://cdn.jsdelivr.net/npm/jspanel4@4.12.0/dist/extensions/contextmenu/jspanel.contextmenu', 'jspanel-dock': 'https://cdn.jsdelivr.net/npm/jspanel4@4.12.0/dist/extensions/dock/jspanel.dock', 'gridstack': 'https://cdn.jsdelivr.net/npm/gridstack@7.2.3/dist/gridstack-all', 'notyf': 'https://cdn.jsdelivr.net/npm/notyf@3/notyf.min'}, 'shim': {'jspanel': {'exports': 'jsPanel'}, 'gridstack': {'exports': 'GridStack'}}});\n      require([\"jspanel\"], function(jsPanel) {\n\twindow.jsPanel = jsPanel\n\ton_load()\n      })\n      require([\"jspanel-modal\"], function() {\n\ton_load()\n      })\n      require([\"jspanel-tooltip\"], function() {\n\ton_load()\n      })\n      require([\"jspanel-hint\"], function() {\n\ton_load()\n      })\n      require([\"jspanel-layout\"], function() {\n\ton_load()\n      })\n      require([\"jspanel-contextmenu\"], function() {\n\ton_load()\n      })\n      require([\"jspanel-dock\"], function() {\n\ton_load()\n      })\n      require([\"gridstack\"], function(GridStack) {\n\twindow.GridStack = GridStack\n\ton_load()\n      })\n      require([\"notyf\"], function() {\n\ton_load()\n      })\n      root._bokeh_is_loading = css_urls.length + 9;\n    } else {\n      root._bokeh_is_loading = css_urls.length + js_urls.length + js_modules.length + Object.keys(js_exports).length;\n    }\n\n    var existing_stylesheets = []\n    var links = document.getElementsByTagName('link')\n    for (var i = 0; i < links.length; i++) {\n      var link = links[i]\n      if (link.href != null) {\n\texisting_stylesheets.push(link.href)\n      }\n    }\n    for (var i = 0; i < css_urls.length; i++) {\n      var url = css_urls[i];\n      if (existing_stylesheets.indexOf(url) !== -1) {\n\ton_load()\n\tcontinue;\n      }\n      const element = document.createElement(\"link\");\n      element.onload = on_load;\n      element.onerror = on_error;\n      element.rel = \"stylesheet\";\n      element.type = \"text/css\";\n      element.href = url;\n      console.debug(\"Bokeh: injecting link tag for BokehJS stylesheet: \", url);\n      document.body.appendChild(element);\n    }    if (((window['jsPanel'] !== undefined) && (!(window['jsPanel'] instanceof HTMLElement))) || window.requirejs) {\n      var urls = ['https://cdn.holoviz.org/panel/1.2.1/dist/bundled/floatpanel/jspanel4@4.12.0/dist/jspanel.js', 'https://cdn.holoviz.org/panel/1.2.1/dist/bundled/floatpanel/jspanel4@4.12.0/dist/extensions/modal/jspanel.modal.js', 'https://cdn.holoviz.org/panel/1.2.1/dist/bundled/floatpanel/jspanel4@4.12.0/dist/extensions/tooltip/jspanel.tooltip.js', 'https://cdn.holoviz.org/panel/1.2.1/dist/bundled/floatpanel/jspanel4@4.12.0/dist/extensions/hint/jspanel.hint.js', 'https://cdn.holoviz.org/panel/1.2.1/dist/bundled/floatpanel/jspanel4@4.12.0/dist/extensions/layout/jspanel.layout.js', 'https://cdn.holoviz.org/panel/1.2.1/dist/bundled/floatpanel/jspanel4@4.12.0/dist/extensions/contextmenu/jspanel.contextmenu.js', 'https://cdn.holoviz.org/panel/1.2.1/dist/bundled/floatpanel/jspanel4@4.12.0/dist/extensions/dock/jspanel.dock.js'];\n      for (var i = 0; i < urls.length; i++) {\n        skip.push(urls[i])\n      }\n    }    if (((window['GridStack'] !== undefined) && (!(window['GridStack'] instanceof HTMLElement))) || window.requirejs) {\n      var urls = ['https://cdn.holoviz.org/panel/1.2.1/dist/bundled/gridstack/gridstack@7.2.3/dist/gridstack-all.js'];\n      for (var i = 0; i < urls.length; i++) {\n        skip.push(urls[i])\n      }\n    }    if (((window['Notyf'] !== undefined) && (!(window['Notyf'] instanceof HTMLElement))) || window.requirejs) {\n      var urls = ['https://cdn.holoviz.org/panel/1.2.1/dist/bundled/notificationarea/notyf@3/notyf.min.js'];\n      for (var i = 0; i < urls.length; i++) {\n        skip.push(urls[i])\n      }\n    }    var existing_scripts = []\n    var scripts = document.getElementsByTagName('script')\n    for (var i = 0; i < scripts.length; i++) {\n      var script = scripts[i]\n      if (script.src != null) {\n\texisting_scripts.push(script.src)\n      }\n    }\n    for (var i = 0; i < js_urls.length; i++) {\n      var url = js_urls[i];\n      if (skip.indexOf(url) !== -1 || existing_scripts.indexOf(url) !== -1) {\n\tif (!window.requirejs) {\n\t  on_load();\n\t}\n\tcontinue;\n      }\n      var element = document.createElement('script');\n      element.onload = on_load;\n      element.onerror = on_error;\n      element.async = false;\n      element.src = url;\n      console.debug(\"Bokeh: injecting script tag for BokehJS library: \", url);\n      document.head.appendChild(element);\n    }\n    for (var i = 0; i < js_modules.length; i++) {\n      var url = js_modules[i];\n      if (skip.indexOf(url) !== -1 || existing_scripts.indexOf(url) !== -1) {\n\tif (!window.requirejs) {\n\t  on_load();\n\t}\n\tcontinue;\n      }\n      var element = document.createElement('script');\n      element.onload = on_load;\n      element.onerror = on_error;\n      element.async = false;\n      element.src = url;\n      element.type = \"module\";\n      console.debug(\"Bokeh: injecting script tag for BokehJS library: \", url);\n      document.head.appendChild(element);\n    }\n    for (const name in js_exports) {\n      var url = js_exports[name];\n      if (skip.indexOf(url) >= 0 || root[name] != null) {\n\tif (!window.requirejs) {\n\t  on_load();\n\t}\n\tcontinue;\n      }\n      var element = document.createElement('script');\n      element.onerror = on_error;\n      element.async = false;\n      element.type = \"module\";\n      console.debug(\"Bokeh: injecting script tag for BokehJS library: \", url);\n      element.textContent = `\n      import ${name} from \"${url}\"\n      window.${name} = ${name}\n      window._bokeh_on_load()\n      `\n      document.head.appendChild(element);\n    }\n    if (!js_urls.length && !js_modules.length) {\n      on_load()\n    }\n  };\n\n  function inject_raw_css(css) {\n    const element = document.createElement(\"style\");\n    element.appendChild(document.createTextNode(css));\n    document.body.appendChild(element);\n  }\n\n  var js_urls = [\"https://cdn.bokeh.org/bokeh/release/bokeh-3.2.2.min.js\", \"https://cdn.bokeh.org/bokeh/release/bokeh-gl-3.2.2.min.js\", \"https://cdn.bokeh.org/bokeh/release/bokeh-widgets-3.2.2.min.js\", \"https://cdn.bokeh.org/bokeh/release/bokeh-tables-3.2.2.min.js\", \"https://cdn.holoviz.org/panel/1.2.1/dist/panel.min.js\"];\n  var js_modules = [];\n  var js_exports = {};\n  var css_urls = [];\n  var inline_js = [    function(Bokeh) {\n      Bokeh.set_log_level(\"info\");\n    },\nfunction(Bokeh) {} // ensure no trailing comma for IE\n  ];\n\n  function run_inline_js() {\n    if ((root.Bokeh !== undefined) || (force === true)) {\n      for (var i = 0; i < inline_js.length; i++) {\n        inline_js[i].call(root, root.Bokeh);\n      }\n      // Cache old bokeh versions\n      if (Bokeh != undefined && !reloading) {\n\tvar NewBokeh = root.Bokeh;\n\tif (Bokeh.versions === undefined) {\n\t  Bokeh.versions = new Map();\n\t}\n\tif (NewBokeh.version !== Bokeh.version) {\n\t  Bokeh.versions.set(NewBokeh.version, NewBokeh)\n\t}\n\troot.Bokeh = Bokeh;\n      }} else if (Date.now() < root._bokeh_timeout) {\n      setTimeout(run_inline_js, 100);\n    } else if (!root._bokeh_failed_load) {\n      console.log(\"Bokeh: BokehJS failed to load within specified timeout.\");\n      root._bokeh_failed_load = true;\n    }\n    root._bokeh_is_initializing = false\n  }\n\n  function load_or_wait() {\n    // Implement a backoff loop that tries to ensure we do not load multiple\n    // versions of Bokeh and its dependencies at the same time.\n    // In recent versions we use the root._bokeh_is_initializing flag\n    // to determine whether there is an ongoing attempt to initialize\n    // bokeh, however for backward compatibility we also try to ensure\n    // that we do not start loading a newer (Panel>=1.0 and Bokeh>3) version\n    // before older versions are fully initialized.\n    if (root._bokeh_is_initializing && Date.now() > root._bokeh_timeout) {\n      root._bokeh_is_initializing = false;\n      root._bokeh_onload_callbacks = undefined;\n      console.log(\"Bokeh: BokehJS was loaded multiple times but one version failed to initialize.\");\n      load_or_wait();\n    } else if (root._bokeh_is_initializing || (typeof root._bokeh_is_initializing === \"undefined\" && root._bokeh_onload_callbacks !== undefined)) {\n      setTimeout(load_or_wait, 100);\n    } else {\n      Bokeh = root.Bokeh;\n      bokeh_loaded = Bokeh != null && (Bokeh.version === py_version || (Bokeh.versions !== undefined && Bokeh.versions.has(py_version)));\n      root._bokeh_is_initializing = true\n      root._bokeh_onload_callbacks = []\n      if (!reloading && (!bokeh_loaded || is_dev)) {\n\troot.Bokeh = undefined;\n      }\n      load_libs(css_urls, js_urls, js_modules, js_exports, function() {\n\tconsole.debug(\"Bokeh: BokehJS plotting callback run at\", now());\n\trun_inline_js();\n      });\n    }\n  }\n  // Give older versions of the autoload script a head-start to ensure\n  // they initialize before we start loading newer version.\n  setTimeout(load_or_wait, 100)\n}(window));",
      "application/vnd.holoviews_load.v0+json": ""
     },
     "metadata": {},
     "output_type": "display_data"
    },
    {
     "data": {
      "application/javascript": "\nif ((window.PyViz === undefined) || (window.PyViz instanceof HTMLElement)) {\n  window.PyViz = {comms: {}, comm_status:{}, kernels:{}, receivers: {}, plot_index: []}\n}\n\n\n    function JupyterCommManager() {\n    }\n\n    JupyterCommManager.prototype.register_target = function(plot_id, comm_id, msg_handler) {\n      if (window.comm_manager || ((window.Jupyter !== undefined) && (Jupyter.notebook.kernel != null))) {\n        var comm_manager = window.comm_manager || Jupyter.notebook.kernel.comm_manager;\n        comm_manager.register_target(comm_id, function(comm) {\n          comm.on_msg(msg_handler);\n        });\n      } else if ((plot_id in window.PyViz.kernels) && (window.PyViz.kernels[plot_id])) {\n        window.PyViz.kernels[plot_id].registerCommTarget(comm_id, function(comm) {\n          comm.onMsg = msg_handler;\n        });\n      } else if (typeof google != 'undefined' && google.colab.kernel != null) {\n        google.colab.kernel.comms.registerTarget(comm_id, (comm) => {\n          var messages = comm.messages[Symbol.asyncIterator]();\n          function processIteratorResult(result) {\n            var message = result.value;\n            console.log(message)\n            var content = {data: message.data, comm_id};\n            var buffers = []\n            for (var buffer of message.buffers || []) {\n              buffers.push(new DataView(buffer))\n            }\n            var metadata = message.metadata || {};\n            var msg = {content, buffers, metadata}\n            msg_handler(msg);\n            return messages.next().then(processIteratorResult);\n          }\n          return messages.next().then(processIteratorResult);\n        })\n      }\n    }\n\n    JupyterCommManager.prototype.get_client_comm = function(plot_id, comm_id, msg_handler) {\n      if (comm_id in window.PyViz.comms) {\n        return window.PyViz.comms[comm_id];\n      } else if (window.comm_manager || ((window.Jupyter !== undefined) && (Jupyter.notebook.kernel != null))) {\n        var comm_manager = window.comm_manager || Jupyter.notebook.kernel.comm_manager;\n        var comm = comm_manager.new_comm(comm_id, {}, {}, {}, comm_id);\n        if (msg_handler) {\n          comm.on_msg(msg_handler);\n        }\n      } else if ((plot_id in window.PyViz.kernels) && (window.PyViz.kernels[plot_id])) {\n        var comm = window.PyViz.kernels[plot_id].connectToComm(comm_id);\n        comm.open();\n        if (msg_handler) {\n          comm.onMsg = msg_handler;\n        }\n      } else if (typeof google != 'undefined' && google.colab.kernel != null) {\n        var comm_promise = google.colab.kernel.comms.open(comm_id)\n        comm_promise.then((comm) => {\n          window.PyViz.comms[comm_id] = comm;\n          if (msg_handler) {\n            var messages = comm.messages[Symbol.asyncIterator]();\n            function processIteratorResult(result) {\n              var message = result.value;\n              var content = {data: message.data};\n              var metadata = message.metadata || {comm_id};\n              var msg = {content, metadata}\n              msg_handler(msg);\n              return messages.next().then(processIteratorResult);\n            }\n            return messages.next().then(processIteratorResult);\n          }\n        }) \n        var sendClosure = (data, metadata, buffers, disposeOnDone) => {\n          return comm_promise.then((comm) => {\n            comm.send(data, metadata, buffers, disposeOnDone);\n          });\n        };\n        var comm = {\n          send: sendClosure\n        };\n      }\n      window.PyViz.comms[comm_id] = comm;\n      return comm;\n    }\n    window.PyViz.comm_manager = new JupyterCommManager();\n    \n\n\nvar JS_MIME_TYPE = 'application/javascript';\nvar HTML_MIME_TYPE = 'text/html';\nvar EXEC_MIME_TYPE = 'application/vnd.holoviews_exec.v0+json';\nvar CLASS_NAME = 'output';\n\n/**\n * Render data to the DOM node\n */\nfunction render(props, node) {\n  var div = document.createElement(\"div\");\n  var script = document.createElement(\"script\");\n  node.appendChild(div);\n  node.appendChild(script);\n}\n\n/**\n * Handle when a new output is added\n */\nfunction handle_add_output(event, handle) {\n  var output_area = handle.output_area;\n  var output = handle.output;\n  if ((output.data == undefined) || (!output.data.hasOwnProperty(EXEC_MIME_TYPE))) {\n    return\n  }\n  var id = output.metadata[EXEC_MIME_TYPE][\"id\"];\n  var toinsert = output_area.element.find(\".\" + CLASS_NAME.split(' ')[0]);\n  if (id !== undefined) {\n    var nchildren = toinsert.length;\n    var html_node = toinsert[nchildren-1].children[0];\n    html_node.innerHTML = output.data[HTML_MIME_TYPE];\n    var scripts = [];\n    var nodelist = html_node.querySelectorAll(\"script\");\n    for (var i in nodelist) {\n      if (nodelist.hasOwnProperty(i)) {\n        scripts.push(nodelist[i])\n      }\n    }\n\n    scripts.forEach( function (oldScript) {\n      var newScript = document.createElement(\"script\");\n      var attrs = [];\n      var nodemap = oldScript.attributes;\n      for (var j in nodemap) {\n        if (nodemap.hasOwnProperty(j)) {\n          attrs.push(nodemap[j])\n        }\n      }\n      attrs.forEach(function(attr) { newScript.setAttribute(attr.name, attr.value) });\n      newScript.appendChild(document.createTextNode(oldScript.innerHTML));\n      oldScript.parentNode.replaceChild(newScript, oldScript);\n    });\n    if (JS_MIME_TYPE in output.data) {\n      toinsert[nchildren-1].children[1].textContent = output.data[JS_MIME_TYPE];\n    }\n    output_area._hv_plot_id = id;\n    if ((window.Bokeh !== undefined) && (id in Bokeh.index)) {\n      window.PyViz.plot_index[id] = Bokeh.index[id];\n    } else {\n      window.PyViz.plot_index[id] = null;\n    }\n  } else if (output.metadata[EXEC_MIME_TYPE][\"server_id\"] !== undefined) {\n    var bk_div = document.createElement(\"div\");\n    bk_div.innerHTML = output.data[HTML_MIME_TYPE];\n    var script_attrs = bk_div.children[0].attributes;\n    for (var i = 0; i < script_attrs.length; i++) {\n      toinsert[toinsert.length - 1].childNodes[1].setAttribute(script_attrs[i].name, script_attrs[i].value);\n    }\n    // store reference to server id on output_area\n    output_area._bokeh_server_id = output.metadata[EXEC_MIME_TYPE][\"server_id\"];\n  }\n}\n\n/**\n * Handle when an output is cleared or removed\n */\nfunction handle_clear_output(event, handle) {\n  var id = handle.cell.output_area._hv_plot_id;\n  var server_id = handle.cell.output_area._bokeh_server_id;\n  if (((id === undefined) || !(id in PyViz.plot_index)) && (server_id !== undefined)) { return; }\n  var comm = window.PyViz.comm_manager.get_client_comm(\"hv-extension-comm\", \"hv-extension-comm\", function () {});\n  if (server_id !== null) {\n    comm.send({event_type: 'server_delete', 'id': server_id});\n    return;\n  } else if (comm !== null) {\n    comm.send({event_type: 'delete', 'id': id});\n  }\n  delete PyViz.plot_index[id];\n  if ((window.Bokeh !== undefined) & (id in window.Bokeh.index)) {\n    var doc = window.Bokeh.index[id].model.document\n    doc.clear();\n    const i = window.Bokeh.documents.indexOf(doc);\n    if (i > -1) {\n      window.Bokeh.documents.splice(i, 1);\n    }\n  }\n}\n\n/**\n * Handle kernel restart event\n */\nfunction handle_kernel_cleanup(event, handle) {\n  delete PyViz.comms[\"hv-extension-comm\"];\n  window.PyViz.plot_index = {}\n}\n\n/**\n * Handle update_display_data messages\n */\nfunction handle_update_output(event, handle) {\n  handle_clear_output(event, {cell: {output_area: handle.output_area}})\n  handle_add_output(event, handle)\n}\n\nfunction register_renderer(events, OutputArea) {\n  function append_mime(data, metadata, element) {\n    // create a DOM node to render to\n    var toinsert = this.create_output_subarea(\n    metadata,\n    CLASS_NAME,\n    EXEC_MIME_TYPE\n    );\n    this.keyboard_manager.register_events(toinsert);\n    // Render to node\n    var props = {data: data, metadata: metadata[EXEC_MIME_TYPE]};\n    render(props, toinsert[0]);\n    element.append(toinsert);\n    return toinsert\n  }\n\n  events.on('output_added.OutputArea', handle_add_output);\n  events.on('output_updated.OutputArea', handle_update_output);\n  events.on('clear_output.CodeCell', handle_clear_output);\n  events.on('delete.Cell', handle_clear_output);\n  events.on('kernel_ready.Kernel', handle_kernel_cleanup);\n\n  OutputArea.prototype.register_mime_type(EXEC_MIME_TYPE, append_mime, {\n    safe: true,\n    index: 0\n  });\n}\n\nif (window.Jupyter !== undefined) {\n  try {\n    var events = require('base/js/events');\n    var OutputArea = require('notebook/js/outputarea').OutputArea;\n    if (OutputArea.prototype.mime_types().indexOf(EXEC_MIME_TYPE) == -1) {\n      register_renderer(events, OutputArea);\n    }\n  } catch(err) {\n  }\n}\n",
      "application/vnd.holoviews_load.v0+json": ""
     },
     "metadata": {},
     "output_type": "display_data"
    },
    {
     "data": {
      "text/html": [
       "<style>*[data-root-id],\n",
       "*[data-root-id] > * {\n",
       "  box-sizing: border-box;\n",
       "  font-family: var(--jp-ui-font-family);\n",
       "  font-size: var(--jp-ui-font-size1);\n",
       "  color: var(--vscode-editor-foreground, var(--jp-ui-font-color1));\n",
       "}\n",
       "\n",
       "/* Override VSCode background color */\n",
       ".cell-output-ipywidget-background:has(\n",
       "    > .cell-output-ipywidget-background > .lm-Widget > *[data-root-id]\n",
       "  ),\n",
       ".cell-output-ipywidget-background:has(> .lm-Widget > *[data-root-id]) {\n",
       "  background-color: transparent !important;\n",
       "}\n",
       "</style>"
      ]
     },
     "metadata": {},
     "output_type": "display_data"
    },
    {
     "data": {
      "text/html": [
       "\n",
       "<div class=\"logo-block\">\n",
       "<img src='data:image/png;base64,iVBORw0KGgoAAAANSUhEUgAAAEAAAABACAYAAACqaXHeAAAABHNCSVQICAgIfAhkiAAAAAlwSFlz\n",
       "AAAB+wAAAfsBxc2miwAAABl0RVh0U29mdHdhcmUAd3d3Lmlua3NjYXBlLm9yZ5vuPBoAAA6zSURB\n",
       "VHic7ZtpeFRVmsf/5966taWqUlUJ2UioBBJiIBAwCZtog9IOgjqACsogKtqirT2ttt069nQ/zDzt\n",
       "tI4+CrJIREFaFgWhBXpUNhHZQoKBkIUASchWla1S+3ar7r1nPkDaCAnZKoQP/D7mnPOe9/xy76n3\n",
       "nFSAW9ziFoPFNED2LLK5wcyBDObkb8ZkxuaoSYlI6ZcOKq1eWFdedqNzGHQBk9RMEwFAASkk0Xw3\n",
       "ETacDNi2vtvc7L0ROdw0AjoSotQVkKSvHQz/wRO1lScGModBFbDMaNRN1A4tUBCS3lk7BWhQkgpD\n",
       "lG4852/+7DWr1R3uHAZVQDsbh6ZPN7CyxUrCzJMRouusj0ipRwD2uKm0Zn5d2dFwzX1TCGhnmdGo\n",
       "G62Nna+isiUqhkzuKrkQaJlPEv5mFl2fvGg2t/VnzkEV8F5ioioOEWkLG86fvbpthynjdhXYZziQ\n",
       "x1hC9J2NFyi8vCTt91Fh04KGip0AaG9zuCk2wQCVyoNU3Hjezee9bq92duzzTmxsRJoy+jEZZZYo\n",
       "GTKJ6SJngdJqAfRzpze0+jHreUtPc7gpBLQnIYK6BYp/uGhw9YK688eu7v95ysgshcg9qSLMo3JC\n",
       "4jqLKQFBgdKDPoQ+Pltb8dUyQLpeDjeVgI6EgLIQFT5tEl3rn2losHVsexbZ3EyT9wE1uGdkIPcy\n",
       "BGxn8QUq1QrA5nqW5i2tLqvrrM9NK6AdkVIvL9E9bZL/oyfMVd/jqvc8LylzRBKDJSzIExwhQzuL\n",
       "QYGQj4rHfFTc8mUdu3E7yoLtbTe9gI4EqVgVkug2i5+uXGo919ixbRog+3fTbQ8qJe4ZOYNfMoTI\n",
       "OoshUNosgO60AisX15aeI2PSIp5KiFLI9ubb1vV3Qb2ltwLakUCDAkWX7/nHKRmmGIl9VgYsUhJm\n",
       "2NXjKYADtM1ygne9QQDIXlk49FBstMKx66D1v4+XuQr7vqTe0VcBHQlRWiOCbmmSYe2SqtL6q5rJ\n",
       "zsTb7lKx3FKOYC4DoqyS/B5bvLPxvD9Qtf6saxYLQGJErmDOdOMr/zo96km1nElr8bmPOBwI9COv\n",
       "HnFPRIwmkSOv9kcAS4heRsidOkpeWBgZM+UBrTFAXNYL5Vf2ii9c1trNzpYdaoVil3WIc+wdk+gQ\n",
       "noie3ecCcxt9ITcLAPWt/laGEO/9U6PmzZkenTtsSMQ8uYywJVW+grCstAvCIaAdArAsIWkRDDs/\n",
       "KzLm2YcjY1Lv0UdW73HabE9n6V66cxSzfEmuJssTpKGVp+0vHq73FwL46eOjpMpbRAnNmJFrGJNu\n",
       "Ukf9Yrz+3rghiumCKNXXWPhLYcjxGsIpoCMsIRoFITkW8AuyM8jC1+/QLx4bozCEJIq38+1rtpR6\n",
       "V/yzb8eBlRb3fo5l783N0CWolAzJHaVNzkrTzlEp2bQ2q3TC5gn6wpnoQAmwSiGh2GitnTmVMc5O\n",
       "UyfKWUKCIsU7+fZDKwqdT6DDpvkzAX4/+AMFjk0tDp5GRXLpQ2MUmhgDp5gxQT8+Y7hyPsMi8uxF\n",
       "71H0oebujHALECjFKaW9Lm68n18wXp2kVzIcABytD5iXFzg+WVXkegpAsOOYziqo0OkK76GyquC3\n",
       "ltZAzMhhqlSNmmWTE5T6e3IN05ITFLM4GdN0vtZ3ob8Jh1NAKXFbm5PtLU/eqTSlGjkNAJjdgn/N\n",
       "aedXa0tdi7+t9G0FIF49rtMSEgAs1kDLkTPO7ebm4IUWeyh1bKomXqlgMG6kJmHcSM0clYLJ8XtR\n",
       "1GTnbV3F6I5wCGikAb402npp1h1s7LQUZZSMIfALFOuL3UUrfnS8+rez7v9qcold5tilgHbO1fjK\n",
       "9ubb17u9oshxzMiUBKXWqJNxd+fqb0tLVs4lILFnK71H0Ind7uiPgACVcFJlrb0tV6DzxqqTIhUM\n",
       "CwDf1/rrVhTa33/3pGPxJYdQ2l2cbgVcQSosdx8uqnDtbGjh9SlDVSMNWhlnilfqZk42Th2ZpLpf\n",
       "xrHec5e815zrr0dfBZSwzkZfqsv+1FS1KUknUwPARVvItfKUY+cn57yP7qv07UE3p8B2uhUwLk09\n",
       "e0SCOrK+hbdYHYLjRIl71wWzv9jpEoeOHhGRrJAzyEyNiJuUqX0g2sBN5kGK6y2Blp5M3lsB9Qh4\n",
       "y2Ja6x6+i0ucmKgwMATwhSjdUu49tKrQ/pvN5d53ml2CGwCmJipmKjgmyuaXzNeL2a0AkQ01Th5j\n",
       "2DktO3Jyk8f9vcOBQHV94OK+fPumJmvQHxJoWkaKWq9Vs+yUsbq0zGT1I4RgeH2b5wef7+c7bl8F\n",
       "eKgoHVVZa8ZPEORzR6sT1BzDUAD/d9F78e2Tzv99v8D+fLVTqAKAsbGamKey1Mt9Ann4eH3gTXTz\n",
       "idWtAJ8PQWOk7NzSeQn/OTHDuEikVF1R4z8BQCy+6D1aWRfY0tTGG2OM8rRoPaeIj5ZHzJxszElN\n",
       "VM8K8JS5WOfv8mzRnQAKoEhmt8gyPM4lU9SmBK1MCQBnW4KONT86v1hZ1PbwSXPw4JWussVjtH9Y\n",
       "NCoiL9UoH/6PSu8jFrfY2t36erQHXLIEakMi1SydmzB31h3GGXFDFNPaK8Rme9B79Ixrd0WN+1ij\n",
       "NRQ/doRmuFLBkHSTOm5GruG+pFjFdAmorG4IXH1Qua6ASniclfFtDYt+oUjKipPrCQB7QBQ2lrgP\n",
       "fFzm+9XWUtcqJ3/5vDLDpJ79XHZk3u8nGZ42qlj1+ydtbxysCezrydp6ugmipNJ7WBPB5tydY0jP\n",
       "HaVNzs3QzeE4ZpTbI+ZbnSFPbVOw9vsfnVvqWnirPyCNGD08IlqtYkh2hjZ5dErEQzoNm+6ykyOt\n",
       "Lt5/PQEuSRRKo22VkydK+vvS1XEKlhCJAnsqvcVvH7f/ZU2R67eXbMEGAMiIV5oWZWiWvz5Fv2xG\n",
       "sjqNJQRvn3Rs2lji/lNP19VjAQDgD7FHhujZB9OGqYxRkZxixgRDVlqS6uEOFaJUVu0rPFzctrnF\n",
       "JqijImVp8dEKVWyUXDk92zAuMZ6bFwpBU1HrOw6AdhQgUooChb0+ItMbWJitSo5Ws3IAOGEOtL53\n",
       "0vHZih9sC4vtofZ7Qu6523V/fmGcds1TY3V36pUsBwAbSlxnVh2xLfAD/IAIMDf7XYIkNmXfpp2l\n",
       "18rkAJAy9HKFaIr/qULkeQQKy9zf1JgDB2uaeFNGijo5QsUyacNUUTOnGO42xSnv4oOwpDi1zYkc\n",
       "efUc3I5Gk6PhyTuVKaOGyLUAYPGIoY9Pu/atL/L92+4q9wbflRJ2Trpm/jPjdBtfnqB/dIThcl8A\n",
       "KG7hbRuKnb8qsQsVvVlTrwQAQMUlf3kwJI24Z4JhPMtcfng5GcH49GsrxJpGvvHIaeem2ma+KSjQ\n",
       "lIwUdYyCY8j4dE1KzijNnIP2llF2wcXNnsoapw9XxsgYAl6k+KzUXbi2yP3KR2ecf6z3BFsBICdW\n",
       "nvnIaG3eHybqX7vbpEqUMT+9OL4Qpe8VON7dXuFd39v19FoAABRVePbGGuXTszO0P7tu6lghUonE\n",
       "llRdrhArLvmKdh9u29jcFiRRkfLUxBiFNiqSU9icoZQHo5mYBI1MBgBH6wMNb+U7Pnw337H4gi1Y\n",
       "ciWs+uks3Z9fztUvfzxTm9Ne8XXkvQLHNytOOZeiD4e0PgkAIAYCYknKUNUDSXEKzdWNpnil7r4p\n",
       "xqkjTarZMtk/K8TQ6Qve78qqvXurGwIJqcOUKfUWHsm8KGvxSP68YudXq4pcj39X49uOK2X142O0\n",
       "Tz5/u/7TVybqH0rSya6ZBwD21/gubbrgWdDgEOx9WUhfBaC2ibcEBYm7a7x+ukrBMNcEZggyR0TE\n",
       "T8zUPjikQ4VosQZbTpS4vqizBKvqmvjsqnpfzaZyx9JPiz1/bfGKdgD45XB1zoIMzYbfTdS/NClB\n",
       "Gct0USiY3YL/g0LHy/uq/Ef6uo5+n0R/vyhp17Klpge763f8rMu6YU/zrn2nml+2WtH+Z+5IAAFc\n",
       "2bUTdTDOSNa9+cQY7YLsOIXhevEkCvzph7a8laecz/Un/z4/Ae04XeL3UQb57IwU9ZDr9UuKVajv\n",
       "nxp1+1UVIo/LjztZkKH59fO3G/JemqCfmaCRqbqbd90ZZ8FfjtkfAyD0J/9+C2h1hDwsSxvGjNDc\n",
       "b4zk5NfrSwiQblLHzZhg+Jf4aPlUwpDqkQqa9nimbt1/TDH8OitGMaQnj+RJS6B1fbF7SY1TqO5v\n",
       "/v0WAADl1f7zokgS7s7VT2DZ7pegUjBM7mjtiDZbcN4j0YrHH0rXpCtY0qPX0cVL0rv5jv/ZXend\n",
       "0u/EESYBAFBU4T4Qa5TflZOhTe7pmKpaP8kCVUVw1+yhXfJWvn1P3hnXi33JsTN6PnP3hHZ8Z3/h\n",
       "aLHzmkNPuPj7Bc/F/Q38CwjTpSwQXgE4Vmwry9tpfq/ZFgqFMy4AVDtCvi8rvMvOmv0N4YwbVgEA\n",
       "sPM72/KVnzfspmH7HQGCRLG2yL1+z8XwvPcdCbsAANh+xPzstgMtxeGKt+6MK3/tacfvwhWvIwMi\n",
       "oKEBtm0H7W+UVfkc/Y1V0BhoPlDr/w1w/eu1vjIgAgDg22OtX6/eYfnEz/focrZTHAFR+PSs56/7\n",
       "q32nwpjazxgwAQCwcU/T62t3WL7r6/jVRa6/byp1rei+Z98ZUAEAhEPHPc8fKnTU9nbgtnOe8h0l\n",
       "9hcGIqmODLQAHCy2Xti6v/XNRivf43f4fFvIteu854+VHnR7q9tfBlwAAGz+pnndB9vM26UebAe8\n",
       "SLHujPOTPVW+rwY+sxskAAC2HrA8t2Vvc7ffP1r9o+vwR2dcr92InIAbKKC1FZ5tB1tf+/G8p8sv\n",
       "N/9Q5zd/XR34LYCwV5JdccMEAMDBk45DH243r/X4xGvqxFa/GNpS7n6rwOwNWwHVE26oAADYurf1\n",
       "zx/utOzt+DMKYM0p17YtZZ5VNzqfsB2HewG1WXE8PoZ7gOclbTIvynZf9JV+fqZtfgs/8F/Nu5rB\n",
       "EIBmJ+8QRMmpU7EzGRsf2FzuePqYRbzh/zE26EwdrT10f6r6o8HOYzCJB9Dpff8tbnGLG8L/A/WE\n",
       "roTBs2RqAAAAAElFTkSuQmCC'\n",
       "     style='height:25px; border-radius:12px; display: inline-block; float: left; vertical-align: middle'></img>\n",
       "\n",
       "\n",
       "  <img src='data:image/png;base64,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'\n",
       "       style='height:15px; border-radius:12px; display: inline-block; float: left'></img>\n",
       "  \n",
       "\n",
       "\n",
       "\n",
       "\n",
       "</div>\n"
      ]
     },
     "metadata": {},
     "output_type": "display_data"
    }
   ],
   "source": [
    "hv.extension('bokeh')"
   ]
  },
  {
   "cell_type": "code",
   "execution_count": 17,
   "metadata": {},
   "outputs": [],
   "source": [
    "# %matplotlib inline"
   ]
  },
  {
   "cell_type": "markdown",
   "metadata": {},
   "source": [
    "# Testing normalize error"
   ]
  },
  {
   "cell_type": "code",
   "execution_count": 36,
   "metadata": {},
   "outputs": [],
   "source": [
    "datapath = r'C:\\Users\\zrbyt\\OneDrive - energia.mta.hu\\Documents\\work_MFA\\cikkek - under construction\\RG atalakitas' + '\\\\'\n",
    "mappath = datapath + 'MK--Scan Piezo--037--Spec.Data 1.txt'\n",
    "infopath = datapath + 'MK--Scan Piezo--037--Information.txt'\n",
    "m = rt.ramanmap(mappath, infopath)"
   ]
  },
  {
   "cell_type": "code",
   "execution_count": 50,
   "metadata": {},
   "outputs": [],
   "source": [
    "m_nobg, _, _ = m.remove_bg()"
   ]
  },
  {
   "cell_type": "code",
   "execution_count": 52,
   "metadata": {},
   "outputs": [
    {
     "name": "stderr",
     "output_type": "stream",
     "text": [
      "c:\\Users\\zrbyt\\WPy64-31090\\python-3.10.9.amd64\\lib\\site-packages\\scipy\\optimize\\_minpack_py.py:1010: OptimizeWarning: Covariance of the parameters could not be estimated\n",
      "  warnings.warn('Covariance of the parameters could not be estimated',\n"
     ]
    },
    {
     "ename": "KeyError",
     "evalue": "\"not all values found in index 'width'. Try setting the `method` keyword argument (example: method='nearest').\"",
     "output_type": "error",
     "traceback": [
      "\u001b[1;31m---------------------------------------------------------------------------\u001b[0m",
      "\u001b[1;31mKeyError\u001b[0m                                  Traceback (most recent call last)",
      "File \u001b[1;32mc:\\Users\\zrbyt\\WPy64-31090\\python-3.10.9.amd64\\lib\\site-packages\\pandas\\core\\indexes\\base.py:3803\u001b[0m, in \u001b[0;36mIndex.get_loc\u001b[1;34m(self, key, method, tolerance)\u001b[0m\n\u001b[0;32m   3802\u001b[0m \u001b[39mtry\u001b[39;00m:\n\u001b[1;32m-> 3803\u001b[0m     \u001b[39mreturn\u001b[39;00m \u001b[39mself\u001b[39;49m\u001b[39m.\u001b[39;49m_engine\u001b[39m.\u001b[39;49mget_loc(casted_key)\n\u001b[0;32m   3804\u001b[0m \u001b[39mexcept\u001b[39;00m \u001b[39mKeyError\u001b[39;00m \u001b[39mas\u001b[39;00m err:\n",
      "File \u001b[1;32mc:\\Users\\zrbyt\\WPy64-31090\\python-3.10.9.amd64\\lib\\site-packages\\pandas\\_libs\\index.pyx:138\u001b[0m, in \u001b[0;36mpandas._libs.index.IndexEngine.get_loc\u001b[1;34m()\u001b[0m\n",
      "File \u001b[1;32mc:\\Users\\zrbyt\\WPy64-31090\\python-3.10.9.amd64\\lib\\site-packages\\pandas\\_libs\\index.pyx:165\u001b[0m, in \u001b[0;36mpandas._libs.index.IndexEngine.get_loc\u001b[1;34m()\u001b[0m\n",
      "File \u001b[1;32mpandas\\_libs\\hashtable_class_helper.pxi:1577\u001b[0m, in \u001b[0;36mpandas._libs.hashtable.Float64HashTable.get_item\u001b[1;34m()\u001b[0m\n",
      "File \u001b[1;32mpandas\\_libs\\hashtable_class_helper.pxi:1587\u001b[0m, in \u001b[0;36mpandas._libs.hashtable.Float64HashTable.get_item\u001b[1;34m()\u001b[0m\n",
      "\u001b[1;31mKeyError\u001b[0m: 27.4315",
      "\nThe above exception was the direct cause of the following exception:\n",
      "\u001b[1;31mKeyError\u001b[0m                                  Traceback (most recent call last)",
      "File \u001b[1;32mc:\\Users\\zrbyt\\WPy64-31090\\python-3.10.9.amd64\\lib\\site-packages\\xarray\\core\\indexes.py:486\u001b[0m, in \u001b[0;36mPandasIndex.sel\u001b[1;34m(self, labels, method, tolerance)\u001b[0m\n\u001b[0;32m    485\u001b[0m \u001b[39mtry\u001b[39;00m:\n\u001b[1;32m--> 486\u001b[0m     indexer \u001b[39m=\u001b[39m \u001b[39mself\u001b[39;49m\u001b[39m.\u001b[39;49mindex\u001b[39m.\u001b[39;49mget_loc(label_value)\n\u001b[0;32m    487\u001b[0m \u001b[39mexcept\u001b[39;00m \u001b[39mKeyError\u001b[39;00m \u001b[39mas\u001b[39;00m e:\n",
      "File \u001b[1;32mc:\\Users\\zrbyt\\WPy64-31090\\python-3.10.9.amd64\\lib\\site-packages\\pandas\\core\\indexes\\base.py:3805\u001b[0m, in \u001b[0;36mIndex.get_loc\u001b[1;34m(self, key, method, tolerance)\u001b[0m\n\u001b[0;32m   3804\u001b[0m \u001b[39mexcept\u001b[39;00m \u001b[39mKeyError\u001b[39;00m \u001b[39mas\u001b[39;00m err:\n\u001b[1;32m-> 3805\u001b[0m     \u001b[39mraise\u001b[39;00m \u001b[39mKeyError\u001b[39;00m(key) \u001b[39mfrom\u001b[39;00m \u001b[39merr\u001b[39;00m\n\u001b[0;32m   3806\u001b[0m \u001b[39mexcept\u001b[39;00m \u001b[39mTypeError\u001b[39;00m:\n\u001b[0;32m   3807\u001b[0m     \u001b[39m# If we have a listlike key, _check_indexing_error will raise\u001b[39;00m\n\u001b[0;32m   3808\u001b[0m     \u001b[39m#  InvalidIndexError. Otherwise we fall through and re-raise\u001b[39;00m\n\u001b[0;32m   3809\u001b[0m     \u001b[39m#  the TypeError.\u001b[39;00m\n",
      "\u001b[1;31mKeyError\u001b[0m: 27.4315",
      "\nThe above exception was the direct cause of the following exception:\n",
      "\u001b[1;31mKeyError\u001b[0m                                  Traceback (most recent call last)",
      "Cell \u001b[1;32mIn[52], line 1\u001b[0m\n\u001b[1;32m----> 1\u001b[0m m_norm \u001b[39m=\u001b[39m m_nobg\u001b[39m.\u001b[39;49mnormalize(\u001b[39m1582\u001b[39;49m, mode \u001b[39m=\u001b[39;49m \u001b[39m'\u001b[39;49m\u001b[39mindividual\u001b[39;49m\u001b[39m'\u001b[39;49m)\n",
      "File \u001b[1;32mc:\\Users\\zrbyt\\GitHub\\ramantools\\.\\ramantools\\ramantools.py:352\u001b[0m, in \u001b[0;36mramanmap.normalize\u001b[1;34m(self, peakshift, width, height, mode, **kwargs)\u001b[0m\n\u001b[0;32m    350\u001b[0m fit \u001b[39m=\u001b[39m peakfit(cropped, stval \u001b[39m=\u001b[39m {\u001b[39m'\u001b[39m\u001b[39mx0\u001b[39m\u001b[39m'\u001b[39m: peakshift, \u001b[39m'\u001b[39m\u001b[39moffset\u001b[39m\u001b[39m'\u001b[39m: (bgoffset_high \u001b[39m+\u001b[39m bgoffset_low)\u001b[39m/\u001b[39m\u001b[39m2\u001b[39m}, \u001b[39m*\u001b[39m\u001b[39m*\u001b[39mkwargs)\n\u001b[0;32m    351\u001b[0m peakampl \u001b[39m=\u001b[39m fit[\u001b[39m'\u001b[39m\u001b[39mcurvefit_coefficients\u001b[39m\u001b[39m'\u001b[39m]\u001b[39m.\u001b[39msel(param \u001b[39m=\u001b[39m \u001b[39m'\u001b[39m\u001b[39mampl\u001b[39m\u001b[39m'\u001b[39m)\u001b[39m.\u001b[39mdata\n\u001b[1;32m--> 352\u001b[0m peakpos \u001b[39m=\u001b[39m fit[\u001b[39m'\u001b[39;49m\u001b[39mcurvefit_coefficients\u001b[39;49m\u001b[39m'\u001b[39;49m]\u001b[39m.\u001b[39;49msel(param \u001b[39m=\u001b[39;49m \u001b[39m'\u001b[39;49m\u001b[39mx0\u001b[39;49m\u001b[39m'\u001b[39;49m)\u001b[39m.\u001b[39;49msel(width \u001b[39m=\u001b[39;49m mapwidth, height \u001b[39m=\u001b[39;49m mapheight)\u001b[39m.\u001b[39mdata\n\u001b[0;32m    354\u001b[0m \u001b[39m# normalize to the peak amplitde\u001b[39;00m\n\u001b[0;32m    355\u001b[0m normalized \u001b[39m=\u001b[39m \u001b[39mself\u001b[39m\u001b[39m.\u001b[39mmapxr \u001b[39m/\u001b[39m peakampl\n",
      "File \u001b[1;32mc:\\Users\\zrbyt\\WPy64-31090\\python-3.10.9.amd64\\lib\\site-packages\\xarray\\core\\dataarray.py:1550\u001b[0m, in \u001b[0;36mDataArray.sel\u001b[1;34m(self, indexers, method, tolerance, drop, **indexers_kwargs)\u001b[0m\n\u001b[0;32m   1440\u001b[0m \u001b[39mdef\u001b[39;00m \u001b[39msel\u001b[39m(\n\u001b[0;32m   1441\u001b[0m     \u001b[39mself\u001b[39m: T_DataArray,\n\u001b[0;32m   1442\u001b[0m     indexers: Mapping[Any, Any] \u001b[39m|\u001b[39m \u001b[39mNone\u001b[39;00m \u001b[39m=\u001b[39m \u001b[39mNone\u001b[39;00m,\n\u001b[1;32m   (...)\u001b[0m\n\u001b[0;32m   1446\u001b[0m     \u001b[39m*\u001b[39m\u001b[39m*\u001b[39mindexers_kwargs: Any,\n\u001b[0;32m   1447\u001b[0m ) \u001b[39m-\u001b[39m\u001b[39m>\u001b[39m T_DataArray:\n\u001b[0;32m   1448\u001b[0m     \u001b[39m\"\"\"Return a new DataArray whose data is given by selecting index\u001b[39;00m\n\u001b[0;32m   1449\u001b[0m \u001b[39m    labels along the specified dimension(s).\u001b[39;00m\n\u001b[0;32m   1450\u001b[0m \n\u001b[1;32m   (...)\u001b[0m\n\u001b[0;32m   1548\u001b[0m \u001b[39m    Dimensions without coordinates: points\u001b[39;00m\n\u001b[0;32m   1549\u001b[0m \u001b[39m    \"\"\"\u001b[39;00m\n\u001b[1;32m-> 1550\u001b[0m     ds \u001b[39m=\u001b[39m \u001b[39mself\u001b[39m\u001b[39m.\u001b[39m_to_temp_dataset()\u001b[39m.\u001b[39msel(\n\u001b[0;32m   1551\u001b[0m         indexers\u001b[39m=\u001b[39mindexers,\n\u001b[0;32m   1552\u001b[0m         drop\u001b[39m=\u001b[39mdrop,\n\u001b[0;32m   1553\u001b[0m         method\u001b[39m=\u001b[39mmethod,\n\u001b[0;32m   1554\u001b[0m         tolerance\u001b[39m=\u001b[39mtolerance,\n\u001b[0;32m   1555\u001b[0m         \u001b[39m*\u001b[39m\u001b[39m*\u001b[39mindexers_kwargs,\n\u001b[0;32m   1556\u001b[0m     )\n\u001b[0;32m   1557\u001b[0m     \u001b[39mreturn\u001b[39;00m \u001b[39mself\u001b[39m\u001b[39m.\u001b[39m_from_temp_dataset(ds)\n",
      "File \u001b[1;32mc:\\Users\\zrbyt\\WPy64-31090\\python-3.10.9.amd64\\lib\\site-packages\\xarray\\core\\dataset.py:2794\u001b[0m, in \u001b[0;36mDataset.sel\u001b[1;34m(self, indexers, method, tolerance, drop, **indexers_kwargs)\u001b[0m\n\u001b[0;32m   2733\u001b[0m \u001b[39m\"\"\"Returns a new dataset with each array indexed by tick labels\u001b[39;00m\n\u001b[0;32m   2734\u001b[0m \u001b[39malong the specified dimension(s).\u001b[39;00m\n\u001b[0;32m   2735\u001b[0m \n\u001b[1;32m   (...)\u001b[0m\n\u001b[0;32m   2791\u001b[0m \u001b[39mDataArray.sel\u001b[39;00m\n\u001b[0;32m   2792\u001b[0m \u001b[39m\"\"\"\u001b[39;00m\n\u001b[0;32m   2793\u001b[0m indexers \u001b[39m=\u001b[39m either_dict_or_kwargs(indexers, indexers_kwargs, \u001b[39m\"\u001b[39m\u001b[39msel\u001b[39m\u001b[39m\"\u001b[39m)\n\u001b[1;32m-> 2794\u001b[0m query_results \u001b[39m=\u001b[39m map_index_queries(\n\u001b[0;32m   2795\u001b[0m     \u001b[39mself\u001b[39;49m, indexers\u001b[39m=\u001b[39;49mindexers, method\u001b[39m=\u001b[39;49mmethod, tolerance\u001b[39m=\u001b[39;49mtolerance\n\u001b[0;32m   2796\u001b[0m )\n\u001b[0;32m   2798\u001b[0m \u001b[39mif\u001b[39;00m drop:\n\u001b[0;32m   2799\u001b[0m     no_scalar_variables \u001b[39m=\u001b[39m {}\n",
      "File \u001b[1;32mc:\\Users\\zrbyt\\WPy64-31090\\python-3.10.9.amd64\\lib\\site-packages\\xarray\\core\\indexing.py:190\u001b[0m, in \u001b[0;36mmap_index_queries\u001b[1;34m(obj, indexers, method, tolerance, **indexers_kwargs)\u001b[0m\n\u001b[0;32m    188\u001b[0m         results\u001b[39m.\u001b[39mappend(IndexSelResult(labels))\n\u001b[0;32m    189\u001b[0m     \u001b[39melse\u001b[39;00m:\n\u001b[1;32m--> 190\u001b[0m         results\u001b[39m.\u001b[39mappend(index\u001b[39m.\u001b[39msel(labels, \u001b[39m*\u001b[39m\u001b[39m*\u001b[39moptions))\n\u001b[0;32m    192\u001b[0m merged \u001b[39m=\u001b[39m merge_sel_results(results)\n\u001b[0;32m    194\u001b[0m \u001b[39m# drop dimension coordinates found in dimension indexers\u001b[39;00m\n\u001b[0;32m    195\u001b[0m \u001b[39m# (also drop multi-index if any)\u001b[39;00m\n\u001b[0;32m    196\u001b[0m \u001b[39m# (.sel() already ensures alignment)\u001b[39;00m\n",
      "File \u001b[1;32mc:\\Users\\zrbyt\\WPy64-31090\\python-3.10.9.amd64\\lib\\site-packages\\xarray\\core\\indexes.py:488\u001b[0m, in \u001b[0;36mPandasIndex.sel\u001b[1;34m(self, labels, method, tolerance)\u001b[0m\n\u001b[0;32m    486\u001b[0m                 indexer \u001b[39m=\u001b[39m \u001b[39mself\u001b[39m\u001b[39m.\u001b[39mindex\u001b[39m.\u001b[39mget_loc(label_value)\n\u001b[0;32m    487\u001b[0m             \u001b[39mexcept\u001b[39;00m \u001b[39mKeyError\u001b[39;00m \u001b[39mas\u001b[39;00m e:\n\u001b[1;32m--> 488\u001b[0m                 \u001b[39mraise\u001b[39;00m \u001b[39mKeyError\u001b[39;00m(\n\u001b[0;32m    489\u001b[0m                     \u001b[39mf\u001b[39m\u001b[39m\"\u001b[39m\u001b[39mnot all values found in index \u001b[39m\u001b[39m{\u001b[39;00mcoord_name\u001b[39m!r}\u001b[39;00m\u001b[39m. \u001b[39m\u001b[39m\"\u001b[39m\n\u001b[0;32m    490\u001b[0m                     \u001b[39m\"\u001b[39m\u001b[39mTry setting the `method` keyword argument (example: method=\u001b[39m\u001b[39m'\u001b[39m\u001b[39mnearest\u001b[39m\u001b[39m'\u001b[39m\u001b[39m).\u001b[39m\u001b[39m\"\u001b[39m\n\u001b[0;32m    491\u001b[0m                 ) \u001b[39mfrom\u001b[39;00m \u001b[39me\u001b[39;00m\n\u001b[0;32m    493\u001b[0m \u001b[39melif\u001b[39;00m label_array\u001b[39m.\u001b[39mdtype\u001b[39m.\u001b[39mkind \u001b[39m==\u001b[39m \u001b[39m\"\u001b[39m\u001b[39mb\u001b[39m\u001b[39m\"\u001b[39m:\n\u001b[0;32m    494\u001b[0m     indexer \u001b[39m=\u001b[39m label_array\n",
      "\u001b[1;31mKeyError\u001b[0m: \"not all values found in index 'width'. Try setting the `method` keyword argument (example: method='nearest').\""
     ]
    }
   ],
   "source": [
    "m_norm = m_nobg.normalize(1582, mode = 'individual')"
   ]
  },
  {
   "cell_type": "code",
   "execution_count": null,
   "metadata": {},
   "outputs": [],
   "source": []
  },
  {
   "cell_type": "code",
   "execution_count": 40,
   "metadata": {},
   "outputs": [],
   "source": [
    "spec = m_norm.mapxr[:, 35, 40]"
   ]
  },
  {
   "cell_type": "code",
   "execution_count": null,
   "metadata": {},
   "outputs": [],
   "source": []
  },
  {
   "cell_type": "code",
   "execution_count": null,
   "metadata": {},
   "outputs": [],
   "source": []
  },
  {
   "cell_type": "code",
   "execution_count": null,
   "metadata": {},
   "outputs": [],
   "source": []
  },
  {
   "cell_type": "code",
   "execution_count": null,
   "metadata": {},
   "outputs": [],
   "source": []
  },
  {
   "cell_type": "code",
   "execution_count": 47,
   "metadata": {},
   "outputs": [],
   "source": [
    "ssd = r'./test data/FLG36.MK_FLG_ABC_36--Spectrum--001--Spec.Data 1.txt'\n",
    "ssi = r'./test data/FLG36.MK_FLG_ABC_36--Spectrum--001--Information.txt'\n",
    "ss = rt.singlespec(ssd, ssi)"
   ]
  },
  {
   "cell_type": "code",
   "execution_count": 48,
   "metadata": {},
   "outputs": [
    {
     "data": {},
     "metadata": {},
     "output_type": "display_data"
    },
    {
     "data": {
      "application/vnd.holoviews_exec.v0+json": "",
      "text/html": [
       "<div id='p1140'>\n",
       "  <div id=\"d3f01a02-d3f1-4c5f-8ef4-10bd9dcbff3e\" data-root-id=\"p1140\" style=\"display: contents;\"></div>\n",
       "</div>\n",
       "<script type=\"application/javascript\">(function(root) {\n",
       "  var docs_json = {\"4b4c7e41-c065-4495-b67c-22fafcb096fa\":{\"version\":\"3.2.2\",\"title\":\"Bokeh Application\",\"roots\":[{\"type\":\"object\",\"name\":\"Row\",\"id\":\"p1140\",\"attributes\":{\"name\":\"Row01364\",\"tags\":[\"embedded\"],\"stylesheets\":[\"\\n:host(.pn-loading.pn-arc):before, .pn-loading.pn-arc:before {\\n  background-image: url(\\\"data:image/svg+xml;base64,PHN2ZyB4bWxucz0iaHR0cDovL3d3dy53My5vcmcvMjAwMC9zdmciIHN0eWxlPSJtYXJnaW46IGF1dG87IGJhY2tncm91bmQ6IG5vbmU7IGRpc3BsYXk6IGJsb2NrOyBzaGFwZS1yZW5kZXJpbmc6IGF1dG87IiB2aWV3Qm94PSIwIDAgMTAwIDEwMCIgcHJlc2VydmVBc3BlY3RSYXRpbz0ieE1pZFlNaWQiPiAgPGNpcmNsZSBjeD0iNTAiIGN5PSI1MCIgZmlsbD0ibm9uZSIgc3Ryb2tlPSIjYzNjM2MzIiBzdHJva2Utd2lkdGg9IjEwIiByPSIzNSIgc3Ryb2tlLWRhc2hhcnJheT0iMTY0LjkzMzYxNDMxMzQ2NDE1IDU2Ljk3Nzg3MTQzNzgyMTM4Ij4gICAgPGFuaW1hdGVUcmFuc2Zvcm0gYXR0cmlidXRlTmFtZT0idHJhbnNmb3JtIiB0eXBlPSJyb3RhdGUiIHJlcGVhdENvdW50PSJpbmRlZmluaXRlIiBkdXI9IjFzIiB2YWx1ZXM9IjAgNTAgNTA7MzYwIDUwIDUwIiBrZXlUaW1lcz0iMDsxIj48L2FuaW1hdGVUcmFuc2Zvcm0+ICA8L2NpcmNsZT48L3N2Zz4=\\\");\\n  background-size: auto calc(min(50%, 400px));\\n}\",{\"type\":\"object\",\"name\":\"ImportedStyleSheet\",\"id\":\"p1143\",\"attributes\":{\"url\":\"https://cdn.holoviz.org/panel/1.2.1/dist/css/loading.css\"}},{\"type\":\"object\",\"name\":\"ImportedStyleSheet\",\"id\":\"p1195\",\"attributes\":{\"url\":\"https://cdn.holoviz.org/panel/1.2.1/dist/css/listpanel.css\"}},{\"type\":\"object\",\"name\":\"ImportedStyleSheet\",\"id\":\"p1141\",\"attributes\":{\"url\":\"https://cdn.holoviz.org/panel/1.2.1/dist/bundled/theme/default.css\"}},{\"type\":\"object\",\"name\":\"ImportedStyleSheet\",\"id\":\"p1142\",\"attributes\":{\"url\":\"https://cdn.holoviz.org/panel/1.2.1/dist/bundled/theme/native.css\"}}],\"min_width\":700,\"margin\":0,\"sizing_mode\":\"stretch_width\",\"align\":\"start\",\"children\":[{\"type\":\"object\",\"name\":\"Spacer\",\"id\":\"p1144\",\"attributes\":{\"name\":\"HSpacer01375\",\"stylesheets\":[\"\\n:host(.pn-loading.pn-arc):before, .pn-loading.pn-arc:before {\\n  background-image: url(\\\"data:image/svg+xml;base64,PHN2ZyB4bWxucz0iaHR0cDovL3d3dy53My5vcmcvMjAwMC9zdmciIHN0eWxlPSJtYXJnaW46IGF1dG87IGJhY2tncm91bmQ6IG5vbmU7IGRpc3BsYXk6IGJsb2NrOyBzaGFwZS1yZW5kZXJpbmc6IGF1dG87IiB2aWV3Qm94PSIwIDAgMTAwIDEwMCIgcHJlc2VydmVBc3BlY3RSYXRpbz0ieE1pZFlNaWQiPiAgPGNpcmNsZSBjeD0iNTAiIGN5PSI1MCIgZmlsbD0ibm9uZSIgc3Ryb2tlPSIjYzNjM2MzIiBzdHJva2Utd2lkdGg9IjEwIiByPSIzNSIgc3Ryb2tlLWRhc2hhcnJheT0iMTY0LjkzMzYxNDMxMzQ2NDE1IDU2Ljk3Nzg3MTQzNzgyMTM4Ij4gICAgPGFuaW1hdGVUcmFuc2Zvcm0gYXR0cmlidXRlTmFtZT0idHJhbnNmb3JtIiB0eXBlPSJyb3RhdGUiIHJlcGVhdENvdW50PSJpbmRlZmluaXRlIiBkdXI9IjFzIiB2YWx1ZXM9IjAgNTAgNTA7MzYwIDUwIDUwIiBrZXlUaW1lcz0iMDsxIj48L2FuaW1hdGVUcmFuc2Zvcm0+ICA8L2NpcmNsZT48L3N2Zz4=\\\");\\n  background-size: auto calc(min(50%, 400px));\\n}\",{\"id\":\"p1143\"},{\"id\":\"p1141\"},{\"id\":\"p1142\"}],\"margin\":0,\"sizing_mode\":\"stretch_width\",\"align\":\"start\"}},{\"type\":\"object\",\"name\":\"Figure\",\"id\":\"p1152\",\"attributes\":{\"width\":700,\"height\":300,\"margin\":[5,10],\"sizing_mode\":\"fixed\",\"align\":\"start\",\"x_range\":{\"type\":\"object\",\"name\":\"Range1d\",\"id\":\"p1145\",\"attributes\":{\"tags\":[[[\"ramanshift\",\"Raman shift\",\"cm$^{-1}$\"]],[]],\"start\":-639.473,\"end\":4019.33,\"reset_start\":-639.473,\"reset_end\":4019.33}},\"y_range\":{\"type\":\"object\",\"name\":\"Range1d\",\"id\":\"p1146\",\"attributes\":{\"tags\":[[[\"Raman intensity\",\"Raman intensity\",\"au\"]],{\"type\":\"map\",\"entries\":[[\"invert_yaxis\",false],[\"autorange\",false]]}],\"start\":753.3,\"end\":2189.7,\"reset_start\":753.3,\"reset_end\":2189.7}},\"x_scale\":{\"type\":\"object\",\"name\":\"LinearScale\",\"id\":\"p1162\"},\"y_scale\":{\"type\":\"object\",\"name\":\"LinearScale\",\"id\":\"p1163\"},\"title\":{\"type\":\"object\",\"name\":\"Title\",\"id\":\"p1155\",\"attributes\":{\"text_color\":\"black\",\"text_font_size\":\"12pt\"}},\"renderers\":[{\"type\":\"object\",\"name\":\"GlyphRenderer\",\"id\":\"p1188\",\"attributes\":{\"data_source\":{\"type\":\"object\",\"name\":\"ColumnDataSource\",\"id\":\"p1179\",\"attributes\":{\"selected\":{\"type\":\"object\",\"name\":\"Selection\",\"id\":\"p1180\",\"attributes\":{\"indices\":[],\"line_indices\":[]}},\"selection_policy\":{\"type\":\"object\",\"name\":\"UnionRenderers\",\"id\":\"p1181\"},\"data\":{\"type\":\"map\",\"entries\":[[\"ramanshift\",{\"type\":\"ndarray\",\"array\":{\"type\":\"bytes\",\"data\":\"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\"},\"shape\":[1600],\"dtype\":\"float64\",\"order\":\"little\"}],[\"Raman intensity\",{\"type\":\"ndarray\",\"array\":{\"type\":\"bytes\",\"data\":\"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\"},\"shape\":[1600],\"dtype\":\"float64\",\"order\":\"little\"}],[\"Raman_intensity\",{\"type\":\"ndarray\",\"array\":{\"type\":\"bytes\",\"data\":\"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\"},\"shape\":[1600],\"dtype\":\"float64\",\"order\":\"little\"}]]}}},\"view\":{\"type\":\"object\",\"name\":\"CDSView\",\"id\":\"p1189\",\"attributes\":{\"filter\":{\"type\":\"object\",\"name\":\"AllIndices\",\"id\":\"p1190\"}}},\"glyph\":{\"type\":\"object\",\"name\":\"Line\",\"id\":\"p1185\",\"attributes\":{\"tags\":[\"apply_ranges\"],\"x\":{\"type\":\"field\",\"field\":\"ramanshift\"},\"y\":{\"type\":\"field\",\"field\":\"Raman intensity\"},\"line_color\":\"#30a2da\",\"line_width\":2}},\"selection_glyph\":{\"type\":\"object\",\"name\":\"Line\",\"id\":\"p1191\",\"attributes\":{\"tags\":[\"apply_ranges\"],\"x\":{\"type\":\"field\",\"field\":\"ramanshift\"},\"y\":{\"type\":\"field\",\"field\":\"Raman intensity\"},\"line_color\":\"#30a2da\",\"line_width\":2}},\"nonselection_glyph\":{\"type\":\"object\",\"name\":\"Line\",\"id\":\"p1186\",\"attributes\":{\"tags\":[\"apply_ranges\"],\"x\":{\"type\":\"field\",\"field\":\"ramanshift\"},\"y\":{\"type\":\"field\",\"field\":\"Raman intensity\"},\"line_color\":\"#30a2da\",\"line_alpha\":0.1,\"line_width\":2}},\"muted_glyph\":{\"type\":\"object\",\"name\":\"Line\",\"id\":\"p1187\",\"attributes\":{\"tags\":[\"apply_ranges\"],\"x\":{\"type\":\"field\",\"field\":\"ramanshift\"},\"y\":{\"type\":\"field\",\"field\":\"Raman intensity\"},\"line_color\":\"#30a2da\",\"line_alpha\":0.2,\"line_width\":2}}}}],\"toolbar\":{\"type\":\"object\",\"name\":\"Toolbar\",\"id\":\"p1161\",\"attributes\":{\"tools\":[{\"type\":\"object\",\"name\":\"WheelZoomTool\",\"id\":\"p1150\",\"attributes\":{\"tags\":[\"hv_created\"],\"zoom_together\":\"none\"}},{\"type\":\"object\",\"name\":\"HoverTool\",\"id\":\"p1151\",\"attributes\":{\"tags\":[\"hv_created\"],\"renderers\":[{\"id\":\"p1188\"}],\"tooltips\":[[\"Raman shift (cm$^{-1}$)\",\"@{ramanshift}\"],[\"Raman intensity (au)\",\"@{Raman_intensity}\"]]}},{\"type\":\"object\",\"name\":\"SaveTool\",\"id\":\"p1174\"},{\"type\":\"object\",\"name\":\"PanTool\",\"id\":\"p1175\"},{\"type\":\"object\",\"name\":\"BoxZoomTool\",\"id\":\"p1176\",\"attributes\":{\"overlay\":{\"type\":\"object\",\"name\":\"BoxAnnotation\",\"id\":\"p1177\",\"attributes\":{\"syncable\":false,\"level\":\"overlay\",\"visible\":false,\"left_units\":\"canvas\",\"right_units\":\"canvas\",\"bottom_units\":\"canvas\",\"top_units\":\"canvas\",\"line_color\":\"black\",\"line_alpha\":1.0,\"line_width\":2,\"line_dash\":[4,4],\"fill_color\":\"lightgrey\",\"fill_alpha\":0.5}}}},{\"type\":\"object\",\"name\":\"ResetTool\",\"id\":\"p1178\"}],\"active_drag\":{\"id\":\"p1175\"},\"active_scroll\":{\"id\":\"p1150\"}}},\"left\":[{\"type\":\"object\",\"name\":\"LinearAxis\",\"id\":\"p1169\",\"attributes\":{\"ticker\":{\"type\":\"object\",\"name\":\"BasicTicker\",\"id\":\"p1170\",\"attributes\":{\"mantissas\":[1,2,5]}},\"formatter\":{\"type\":\"object\",\"name\":\"BasicTickFormatter\",\"id\":\"p1171\"},\"axis_label\":\"Raman intensity (au)\",\"major_label_policy\":{\"type\":\"object\",\"name\":\"AllLabels\",\"id\":\"p1172\"}}}],\"below\":[{\"type\":\"object\",\"name\":\"LinearAxis\",\"id\":\"p1164\",\"attributes\":{\"ticker\":{\"type\":\"object\",\"name\":\"BasicTicker\",\"id\":\"p1165\",\"attributes\":{\"mantissas\":[1,2,5]}},\"formatter\":{\"type\":\"object\",\"name\":\"BasicTickFormatter\",\"id\":\"p1166\"},\"axis_label\":\"Raman shift (cm$^{-1}$)\",\"major_label_policy\":{\"type\":\"object\",\"name\":\"AllLabels\",\"id\":\"p1167\"}}}],\"center\":[{\"type\":\"object\",\"name\":\"Grid\",\"id\":\"p1168\",\"attributes\":{\"axis\":{\"id\":\"p1164\"},\"grid_line_color\":null}},{\"type\":\"object\",\"name\":\"Grid\",\"id\":\"p1173\",\"attributes\":{\"dimension\":1,\"axis\":{\"id\":\"p1169\"},\"grid_line_color\":null}}],\"min_border_top\":10,\"min_border_bottom\":10,\"min_border_left\":10,\"min_border_right\":10,\"output_backend\":\"webgl\"}},{\"type\":\"object\",\"name\":\"Spacer\",\"id\":\"p1193\",\"attributes\":{\"name\":\"HSpacer01378\",\"stylesheets\":[\"\\n:host(.pn-loading.pn-arc):before, .pn-loading.pn-arc:before {\\n  background-image: url(\\\"data:image/svg+xml;base64,PHN2ZyB4bWxucz0iaHR0cDovL3d3dy53My5vcmcvMjAwMC9zdmciIHN0eWxlPSJtYXJnaW46IGF1dG87IGJhY2tncm91bmQ6IG5vbmU7IGRpc3BsYXk6IGJsb2NrOyBzaGFwZS1yZW5kZXJpbmc6IGF1dG87IiB2aWV3Qm94PSIwIDAgMTAwIDEwMCIgcHJlc2VydmVBc3BlY3RSYXRpbz0ieE1pZFlNaWQiPiAgPGNpcmNsZSBjeD0iNTAiIGN5PSI1MCIgZmlsbD0ibm9uZSIgc3Ryb2tlPSIjYzNjM2MzIiBzdHJva2Utd2lkdGg9IjEwIiByPSIzNSIgc3Ryb2tlLWRhc2hhcnJheT0iMTY0LjkzMzYxNDMxMzQ2NDE1IDU2Ljk3Nzg3MTQzNzgyMTM4Ij4gICAgPGFuaW1hdGVUcmFuc2Zvcm0gYXR0cmlidXRlTmFtZT0idHJhbnNmb3JtIiB0eXBlPSJyb3RhdGUiIHJlcGVhdENvdW50PSJpbmRlZmluaXRlIiBkdXI9IjFzIiB2YWx1ZXM9IjAgNTAgNTA7MzYwIDUwIDUwIiBrZXlUaW1lcz0iMDsxIj48L2FuaW1hdGVUcmFuc2Zvcm0+ICA8L2NpcmNsZT48L3N2Zz4=\\\");\\n  background-size: auto calc(min(50%, 400px));\\n}\",{\"id\":\"p1143\"},{\"id\":\"p1141\"},{\"id\":\"p1142\"}],\"margin\":0,\"sizing_mode\":\"stretch_width\",\"align\":\"start\"}}]}}],\"defs\":[{\"type\":\"model\",\"name\":\"ReactiveHTML1\"},{\"type\":\"model\",\"name\":\"FlexBox1\",\"properties\":[{\"name\":\"align_content\",\"kind\":\"Any\",\"default\":\"flex-start\"},{\"name\":\"align_items\",\"kind\":\"Any\",\"default\":\"flex-start\"},{\"name\":\"flex_direction\",\"kind\":\"Any\",\"default\":\"row\"},{\"name\":\"flex_wrap\",\"kind\":\"Any\",\"default\":\"wrap\"},{\"name\":\"justify_content\",\"kind\":\"Any\",\"default\":\"flex-start\"}]},{\"type\":\"model\",\"name\":\"FloatPanel1\",\"properties\":[{\"name\":\"config\",\"kind\":\"Any\",\"default\":{\"type\":\"map\"}},{\"name\":\"contained\",\"kind\":\"Any\",\"default\":true},{\"name\":\"position\",\"kind\":\"Any\",\"default\":\"right-top\"},{\"name\":\"offsetx\",\"kind\":\"Any\",\"default\":null},{\"name\":\"offsety\",\"kind\":\"Any\",\"default\":null},{\"name\":\"theme\",\"kind\":\"Any\",\"default\":\"primary\"},{\"name\":\"status\",\"kind\":\"Any\",\"default\":\"normalized\"}]},{\"type\":\"model\",\"name\":\"GridStack1\",\"properties\":[{\"name\":\"mode\",\"kind\":\"Any\",\"default\":\"warn\"},{\"name\":\"ncols\",\"kind\":\"Any\",\"default\":null},{\"name\":\"nrows\",\"kind\":\"Any\",\"default\":null},{\"name\":\"allow_resize\",\"kind\":\"Any\",\"default\":true},{\"name\":\"allow_drag\",\"kind\":\"Any\",\"default\":true},{\"name\":\"state\",\"kind\":\"Any\",\"default\":[]}]},{\"type\":\"model\",\"name\":\"drag1\",\"properties\":[{\"name\":\"slider_width\",\"kind\":\"Any\",\"default\":5},{\"name\":\"slider_color\",\"kind\":\"Any\",\"default\":\"black\"},{\"name\":\"value\",\"kind\":\"Any\",\"default\":50}]},{\"type\":\"model\",\"name\":\"click1\",\"properties\":[{\"name\":\"terminal_output\",\"kind\":\"Any\",\"default\":\"\"},{\"name\":\"debug_name\",\"kind\":\"Any\",\"default\":\"\"},{\"name\":\"clears\",\"kind\":\"Any\",\"default\":0}]},{\"type\":\"model\",\"name\":\"FastWrapper1\",\"properties\":[{\"name\":\"object\",\"kind\":\"Any\",\"default\":null},{\"name\":\"style\",\"kind\":\"Any\",\"default\":null}]},{\"type\":\"model\",\"name\":\"NotificationAreaBase1\",\"properties\":[{\"name\":\"js_events\",\"kind\":\"Any\",\"default\":{\"type\":\"map\"}},{\"name\":\"position\",\"kind\":\"Any\",\"default\":\"bottom-right\"},{\"name\":\"_clear\",\"kind\":\"Any\",\"default\":0}]},{\"type\":\"model\",\"name\":\"NotificationArea1\",\"properties\":[{\"name\":\"js_events\",\"kind\":\"Any\",\"default\":{\"type\":\"map\"}},{\"name\":\"notifications\",\"kind\":\"Any\",\"default\":[]},{\"name\":\"position\",\"kind\":\"Any\",\"default\":\"bottom-right\"},{\"name\":\"_clear\",\"kind\":\"Any\",\"default\":0},{\"name\":\"types\",\"kind\":\"Any\",\"default\":[{\"type\":\"map\",\"entries\":[[\"type\",\"warning\"],[\"background\",\"#ffc107\"],[\"icon\",{\"type\":\"map\",\"entries\":[[\"className\",\"fas fa-exclamation-triangle\"],[\"tagName\",\"i\"],[\"color\",\"white\"]]}]]},{\"type\":\"map\",\"entries\":[[\"type\",\"info\"],[\"background\",\"#007bff\"],[\"icon\",{\"type\":\"map\",\"entries\":[[\"className\",\"fas fa-info-circle\"],[\"tagName\",\"i\"],[\"color\",\"white\"]]}]]}]}]},{\"type\":\"model\",\"name\":\"Notification\",\"properties\":[{\"name\":\"background\",\"kind\":\"Any\",\"default\":null},{\"name\":\"duration\",\"kind\":\"Any\",\"default\":3000},{\"name\":\"icon\",\"kind\":\"Any\",\"default\":null},{\"name\":\"message\",\"kind\":\"Any\",\"default\":\"\"},{\"name\":\"notification_type\",\"kind\":\"Any\",\"default\":null},{\"name\":\"_destroyed\",\"kind\":\"Any\",\"default\":false}]},{\"type\":\"model\",\"name\":\"TemplateActions1\",\"properties\":[{\"name\":\"open_modal\",\"kind\":\"Any\",\"default\":0},{\"name\":\"close_modal\",\"kind\":\"Any\",\"default\":0}]},{\"type\":\"model\",\"name\":\"BootstrapTemplateActions1\",\"properties\":[{\"name\":\"open_modal\",\"kind\":\"Any\",\"default\":0},{\"name\":\"close_modal\",\"kind\":\"Any\",\"default\":0}]},{\"type\":\"model\",\"name\":\"MaterialTemplateActions1\",\"properties\":[{\"name\":\"open_modal\",\"kind\":\"Any\",\"default\":0},{\"name\":\"close_modal\",\"kind\":\"Any\",\"default\":0}]}]}};\n",
       "  var render_items = [{\"docid\":\"4b4c7e41-c065-4495-b67c-22fafcb096fa\",\"roots\":{\"p1140\":\"d3f01a02-d3f1-4c5f-8ef4-10bd9dcbff3e\"},\"root_ids\":[\"p1140\"]}];\n",
       "  var docs = Object.values(docs_json)\n",
       "  if (!docs) {\n",
       "    return\n",
       "  }\n",
       "  const py_version = docs[0].version.replace('rc', '-rc.').replace('.dev', '-dev.')\n",
       "  const is_dev = py_version.indexOf(\"+\") !== -1 || py_version.indexOf(\"-\") !== -1\n",
       "  function embed_document(root) {\n",
       "    var Bokeh = get_bokeh(root)\n",
       "    Bokeh.embed.embed_items_notebook(docs_json, render_items);\n",
       "    for (const render_item of render_items) {\n",
       "      for (const root_id of render_item.root_ids) {\n",
       "\tconst id_el = document.getElementById(root_id)\n",
       "\tif (id_el.children.length && (id_el.children[0].className === 'bk-root')) {\n",
       "\t  const root_el = id_el.children[0]\n",
       "\t  root_el.id = root_el.id + '-rendered'\n",
       "\t}\n",
       "      }\n",
       "    }\n",
       "  }\n",
       "  function get_bokeh(root) {\n",
       "    if (root.Bokeh === undefined) {\n",
       "      return null\n",
       "    } else if (root.Bokeh.version !== py_version && !is_dev) {\n",
       "      if (root.Bokeh.versions === undefined || !root.Bokeh.versions.has(py_version)) {\n",
       "\treturn null\n",
       "      }\n",
       "      return root.Bokeh.versions.get(py_version);\n",
       "    } else if (root.Bokeh.version === py_version) {\n",
       "      return root.Bokeh\n",
       "    }\n",
       "    return null\n",
       "  }\n",
       "  function is_loaded(root) {\n",
       "    var Bokeh = get_bokeh(root)\n",
       "    return (Bokeh != null && Bokeh.Panel !== undefined)\n",
       "  }\n",
       "  if (is_loaded(root)) {\n",
       "    embed_document(root);\n",
       "  } else {\n",
       "    var attempts = 0;\n",
       "    var timer = setInterval(function(root) {\n",
       "      if (is_loaded(root)) {\n",
       "        clearInterval(timer);\n",
       "        embed_document(root);\n",
       "      } else if (document.readyState == \"complete\") {\n",
       "        attempts++;\n",
       "        if (attempts > 200) {\n",
       "          clearInterval(timer);\n",
       "\t  var Bokeh = get_bokeh(root)\n",
       "\t  if (Bokeh == null || Bokeh.Panel == null) {\n",
       "            console.warn(\"Panel: ERROR: Unable to run Panel code because Bokeh or Panel library is missing\");\n",
       "\t  } else {\n",
       "\t    console.warn(\"Panel: WARNING: Attempting to render but not all required libraries could be resolved.\")\n",
       "\t    embed_document(root)\n",
       "\t  }\n",
       "        }\n",
       "      }\n",
       "    }, 25, root)\n",
       "  }\n",
       "})(window);</script>"
      ],
      "text/plain": [
       ":Curve   [ramanshift]   (Raman intensity)"
      ]
     },
     "execution_count": 48,
     "metadata": {
      "application/vnd.holoviews_exec.v0+json": {
       "id": "p1140"
      }
     },
     "output_type": "execute_result"
    }
   ],
   "source": [
    "ss.ssxr.hvplot()"
   ]
  },
  {
   "cell_type": "code",
   "execution_count": null,
   "metadata": {},
   "outputs": [],
   "source": []
  },
  {
   "cell_type": "code",
   "execution_count": null,
   "metadata": {},
   "outputs": [],
   "source": []
  },
  {
   "cell_type": "code",
   "execution_count": null,
   "metadata": {},
   "outputs": [],
   "source": []
  },
  {
   "cell_type": "markdown",
   "metadata": {},
   "source": [
    "# Testing dask"
   ]
  },
  {
   "cell_type": "markdown",
   "metadata": {},
   "source": [
    "Let's save a smaller file for testing."
   ]
  },
  {
   "cell_type": "code",
   "execution_count": null,
   "metadata": {},
   "outputs": [],
   "source": [
    "xrm_small = xrm.sel(width = slice(30, 40), height = slice(30, 40), ramanshift = slice(1300, 1600))"
   ]
  },
  {
   "cell_type": "code",
   "execution_count": null,
   "metadata": {},
   "outputs": [],
   "source": [
    "xrm_small.to_netcdf(data_path + 'xrm_small.nc')"
   ]
  },
  {
   "cell_type": "code",
   "execution_count": null,
   "metadata": {},
   "outputs": [],
   "source": [
    "# Define a function to perform a linear fit and subtract it from the data\n",
    "def bgsubtract_wrapper(xrobject):\n",
    "    y_data_nobg, _, _, _, _ = rt.bgsubtract(xrobject['ramanshift'], xrobject.data)\n",
    "    return y_data_nobg"
   ]
  },
  {
   "cell_type": "code",
   "execution_count": null,
   "metadata": {},
   "outputs": [],
   "source": [
    "# Initialize an empty xarray DataArray to store the result\n",
    "xrm_subtracted = xr.zeros_like(xrm)\n",
    "\n",
    "# Iterate over the height and width dimensions\n",
    "for i in range(len(xrm['height'])):\n",
    "    for j in range(len(xrm['width'])):\n",
    "        # Select the data for this pixel\n",
    "        pixel_data = xrm.isel(height = i, width = j)\n",
    "        \n",
    "        # Apply the function to this pixel's data and store the result\n",
    "        xrm_subtracted.loc[dict(height = xrm['height'][i], width = xrm['width'][j])] = bgsubtract_wrapper(pixel_data)"
   ]
  },
  {
   "cell_type": "code",
   "execution_count": null,
   "metadata": {},
   "outputs": [
    {
     "data": {
      "text/plain": [
       "[<matplotlib.lines.Line2D at 0x25073cf7d90>]"
      ]
     },
     "metadata": {},
     "output_type": "display_data"
    },
    {
     "data": {
      "image/png": "[encoded data removed]",
      "text/plain": [
       "<Figure size 640x480 with 1 Axes>"
      ]
     },
     "metadata": {},
     "output_type": "display_data"
    }
   ],
   "source": [
    "xrm_subtracted.sel(height = 12, width = 30, method = 'nearest').plot()"
   ]
  },
  {
   "cell_type": "markdown",
   "metadata": {},
   "source": [
    "# Trying `dask` parallelization"
   ]
  },
  {
   "cell_type": "code",
   "execution_count": null,
   "metadata": {},
   "outputs": [],
   "source": [
    "import dask.array as da"
   ]
  },
  {
   "cell_type": "code",
   "execution_count": null,
   "metadata": {},
   "outputs": [],
   "source": [
    "data = xrm"
   ]
  },
  {
   "cell_type": "markdown",
   "metadata": {},
   "source": [
    "Reshaping data"
   ]
  },
  {
   "cell_type": "code",
   "execution_count": null,
   "metadata": {},
   "outputs": [],
   "source": [
    "data_flat = xrm.stack(pos = ('height', 'width'))"
   ]
  },
  {
   "cell_type": "code",
   "execution_count": null,
   "metadata": {},
   "outputs": [],
   "source": [
    "data_unstacked = data_flat.unstack('pos')"
   ]
  },
  {
   "cell_type": "markdown",
   "metadata": {},
   "source": [
    "I'm choosing here a chunk size of 1 in the 'height' and 'width' dimensions."
   ]
  },
  {
   "cell_type": "code",
   "execution_count": null,
   "metadata": {},
   "outputs": [],
   "source": [
    "# Rechunk the data for parallel computation\n",
    "data_dask = data.chunk({'height': 1, 'width': 1, 'ramanshift': -1}).data"
   ]
  },
  {
   "cell_type": "code",
   "execution_count": null,
   "metadata": {},
   "outputs": [],
   "source": [
    "# Define a function to apply bgsubtract to a 2D array\n",
    "# This should take a 1D numpy array and return a 1D numpy array.\n",
    "def bgsubtract_2d(y_data_2d, x_data):\n",
    "    # Initialize an array to hold the results\n",
    "    y_data_nobg_2d = np.empty_like(y_data_2d)\n",
    "\n",
    "    # Loop over the first dimension\n",
    "    for i in range(y_data_2d.shape[0]):\n",
    "        for j in range(y_data_2d.shape[1]):\n",
    "            # Apply the bgsubtract function\n",
    "            y_data_nobg, _, _, _, _ = rt.bgsubtract(x_data, y_data_2d[i, j])\n",
    "\n",
    "            # Store the result\n",
    "            y_data_nobg_2d[i, j] = y_data_nobg\n",
    "\n",
    "    return y_data_nobg_2d"
   ]
  },
  {
   "cell_type": "code",
   "execution_count": null,
   "metadata": {},
   "outputs": [],
   "source": [
    "# Apply the function to the data with Dask's map_blocks function\n",
    "y_data_nobg_dask = da.map_blocks(bgsubtract_2d, data_dask, data['ramanshift'].values, dtype = data_dask.dtype)"
   ]
  },
  {
   "cell_type": "code",
   "execution_count": null,
   "metadata": {},
   "outputs": [],
   "source": [
    "# Convert the result back to xarray DataArray\n",
    "y_data_nobg = xr.DataArray(\n",
    "    y_data_nobg_dask,\n",
    "    dims=[\"ramanshift\", \"height\", \"width\"],\n",
    "    coords={\"ramanshift\": data.ramanshift, \"height\": data.height, \"width\": data.width}\n",
    ")\n"
   ]
  },
  {
   "cell_type": "markdown",
   "metadata": {},
   "source": [
    "Now the chunks are of size 1. So the bgsubtract wrapper doesn't need to loop. Let's see"
   ]
  },
  {
   "cell_type": "code",
   "execution_count": null,
   "metadata": {},
   "outputs": [],
   "source": [
    "data_dask = data_flat.chunk({'pos': 1, 'ramanshift': -1}).data"
   ]
  },
  {
   "cell_type": "code",
   "execution_count": null,
   "metadata": {},
   "outputs": [
    {
     "data": {
      "text/html": [
       "<table>\n",
       "    <tr>\n",
       "        <td>\n",
       "            <table style=\"border-collapse: collapse;\">\n",
       "                <thead>\n",
       "                    <tr>\n",
       "                        <td> </td>\n",
       "                        <th> Array </th>\n",
       "                        <th> Chunk </th>\n",
       "                    </tr>\n",
       "                </thead>\n",
       "                <tbody>\n",
       "                    \n",
       "                    <tr>\n",
       "                        <th> Bytes </th>\n",
       "                        <td> 91.17 MiB </td>\n",
       "                        <td> 12.50 kiB </td>\n",
       "                    </tr>\n",
       "                    \n",
       "                    <tr>\n",
       "                        <th> Shape </th>\n",
       "                        <td> (1600, 7469) </td>\n",
       "                        <td> (1600, 1) </td>\n",
       "                    </tr>\n",
       "                    <tr>\n",
       "                        <th> Dask graph </th>\n",
       "                        <td colspan=\"2\"> 7469 chunks in 1 graph layer </td>\n",
       "                    </tr>\n",
       "                    <tr>\n",
       "                        <th> Data type </th>\n",
       "                        <td colspan=\"2\"> float64 numpy.ndarray </td>\n",
       "                    </tr>\n",
       "                </tbody>\n",
       "            </table>\n",
       "        </td>\n",
       "        <td>\n",
       "        <svg width=\"170\" height=\"92\" style=\"stroke:rgb(0,0,0);stroke-width:1\" >\n",
       "\n",
       "  <!-- Horizontal lines -->\n",
       "  <line x1=\"0\" y1=\"0\" x2=\"120\" y2=\"0\" style=\"stroke-width:2\" />\n",
       "  <line x1=\"0\" y1=\"42\" x2=\"120\" y2=\"42\" style=\"stroke-width:2\" />\n",
       "\n",
       "  <!-- Vertical lines -->\n",
       "  <line x1=\"0\" y1=\"0\" x2=\"0\" y2=\"42\" style=\"stroke-width:2\" />\n",
       "  <line x1=\"6\" y1=\"0\" x2=\"6\" y2=\"42\" />\n",
       "  <line x1=\"12\" y1=\"0\" x2=\"12\" y2=\"42\" />\n",
       "  <line x1=\"18\" y1=\"0\" x2=\"18\" y2=\"42\" />\n",
       "  <line x1=\"25\" y1=\"0\" x2=\"25\" y2=\"42\" />\n",
       "  <line x1=\"31\" y1=\"0\" x2=\"31\" y2=\"42\" />\n",
       "  <line x1=\"37\" y1=\"0\" x2=\"37\" y2=\"42\" />\n",
       "  <line x1=\"44\" y1=\"0\" x2=\"44\" y2=\"42\" />\n",
       "  <line x1=\"50\" y1=\"0\" x2=\"50\" y2=\"42\" />\n",
       "  <line x1=\"56\" y1=\"0\" x2=\"56\" y2=\"42\" />\n",
       "  <line x1=\"63\" y1=\"0\" x2=\"63\" y2=\"42\" />\n",
       "  <line x1=\"69\" y1=\"0\" x2=\"69\" y2=\"42\" />\n",
       "  <line x1=\"75\" y1=\"0\" x2=\"75\" y2=\"42\" />\n",
       "  <line x1=\"82\" y1=\"0\" x2=\"82\" y2=\"42\" />\n",
       "  <line x1=\"88\" y1=\"0\" x2=\"88\" y2=\"42\" />\n",
       "  <line x1=\"94\" y1=\"0\" x2=\"94\" y2=\"42\" />\n",
       "  <line x1=\"101\" y1=\"0\" x2=\"101\" y2=\"42\" />\n",
       "  <line x1=\"107\" y1=\"0\" x2=\"107\" y2=\"42\" />\n",
       "  <line x1=\"113\" y1=\"0\" x2=\"113\" y2=\"42\" />\n",
       "  <line x1=\"120\" y1=\"0\" x2=\"120\" y2=\"42\" style=\"stroke-width:2\" />\n",
       "\n",
       "  <!-- Colored Rectangle -->\n",
       "  <polygon points=\"0.0,0.0 120.0,0.0 120.0,42.295031481971485 0.0,42.295031481971485\" style=\"fill:#8B4903A0;stroke-width:0\"/>\n",
       "\n",
       "  <!-- Text -->\n",
       "  <text x=\"60.000000\" y=\"62.295031\" font-size=\"1.0rem\" font-weight=\"100\" text-anchor=\"middle\" >7469</text>\n",
       "  <text x=\"140.000000\" y=\"21.147516\" font-size=\"1.0rem\" font-weight=\"100\" text-anchor=\"middle\" transform=\"rotate(-90,140.000000,21.147516)\">1600</text>\n",
       "</svg>\n",
       "        </td>\n",
       "    </tr>\n",
       "</table>"
      ],
      "text/plain": [
       "dask.array<xarray-<this-array>, shape=(1600, 7469), dtype=float64, chunksize=(1600, 1), chunktype=numpy.ndarray>"
      ]
     },
     "metadata": {},
     "output_type": "display_data"
    }
   ],
   "source": [
    "data_dask"
   ]
  },
  {
   "cell_type": "code",
   "execution_count": null,
   "metadata": {},
   "outputs": [],
   "source": [
    "def bgsubtract_wrap(y_data):\n",
    "    y_data_nobg = np.empty_like(y_data)\n",
    "    rshift = data_flat['ramanshift'].values\n",
    "    y_data_nobg, _, _, _, _ = rt.bgsubtract(rshift, y_data)\n",
    "    return y_data_nobg"
   ]
  },
  {
   "cell_type": "code",
   "execution_count": null,
   "metadata": {},
   "outputs": [],
   "source": [
    "y_data_nobg_dask = da.map_blocks(bgsubtract_wrap, data_dask, dtype = data_dask.dtype)"
   ]
  },
  {
   "cell_type": "code",
   "execution_count": null,
   "metadata": {},
   "outputs": [
    {
     "ename": "ValueError",
     "evalue": "`x` must be a 1-D array",
     "output_type": "error",
     "traceback": [
      "\u001b[1;31m---------------------------------------------------------------------------\u001b[0m\n",
      "\u001b[1;31mValueError\u001b[0m                                Traceback (most recent call last)\n",
      "Cell \u001b[1;32mIn[158], line 1\u001b[0m\n",
      "\u001b[1;32m----> 1\u001b[0m data_flat_res \u001b[39m=\u001b[39m y_data_nobg_dask\u001b[39m.\u001b[39;49mcompute()\n",
      "\n",
      "File \u001b[1;32mc:\\Users\\zrbyt\\WPy64-31090\\python-3.10.9.amd64\\lib\\site-packages\\dask\\threaded.py:89\u001b[0m, in \u001b[0;36mget\u001b[1;34m(dsk, keys, cache, num_workers, pool, **kwargs)\u001b[0m\n",
      "\u001b[0;32m     86\u001b[0m     \u001b[39melif\u001b[39;00m \u001b[39misinstance\u001b[39m(pool, multiprocessing\u001b[39m.\u001b[39mpool\u001b[39m.\u001b[39mPool):\n",
      "\u001b[0;32m     87\u001b[0m         pool \u001b[39m=\u001b[39m MultiprocessingPoolExecutor(pool)\n",
      "\u001b[1;32m---> 89\u001b[0m results \u001b[39m=\u001b[39m get_async(\n",
      "\u001b[0;32m     90\u001b[0m     pool\u001b[39m.\u001b[39msubmit,\n",
      "\u001b[0;32m     91\u001b[0m     pool\u001b[39m.\u001b[39m_max_workers,\n",
      "\u001b[0;32m     92\u001b[0m     dsk,\n",
      "\u001b[0;32m     93\u001b[0m     keys,\n",
      "\u001b[0;32m     94\u001b[0m     cache\u001b[39m=\u001b[39mcache,\n",
      "\u001b[0;32m     95\u001b[0m     get_id\u001b[39m=\u001b[39m_thread_get_id,\n",
      "\u001b[0;32m     96\u001b[0m     pack_exception\u001b[39m=\u001b[39mpack_exception,\n",
      "\u001b[0;32m     97\u001b[0m     \u001b[39m*\u001b[39m\u001b[39m*\u001b[39mkwargs,\n",
      "\u001b[0;32m     98\u001b[0m )\n",
      "\u001b[0;32m    100\u001b[0m \u001b[39m# Cleanup pools associated to dead threads\u001b[39;00m\n",
      "\u001b[0;32m    101\u001b[0m \u001b[39mwith\u001b[39;00m pools_lock:\n",
      "\n",
      "File \u001b[1;32mc:\\Users\\zrbyt\\WPy64-31090\\python-3.10.9.amd64\\lib\\site-packages\\dask\\local.py:511\u001b[0m, in \u001b[0;36mget_async\u001b[1;34m(submit, num_workers, dsk, result, cache, get_id, rerun_exceptions_locally, pack_exception, raise_exception, callbacks, dumps, loads, chunksize, **kwargs)\u001b[0m\n",
      "\u001b[0;32m    509\u001b[0m         _execute_task(task, data)  \u001b[39m# Re-execute locally\u001b[39;00m\n",
      "\u001b[0;32m    510\u001b[0m     \u001b[39melse\u001b[39;00m:\n",
      "\u001b[1;32m--> 511\u001b[0m         raise_exception(exc, tb)\n",
      "\u001b[0;32m    512\u001b[0m res, worker_id \u001b[39m=\u001b[39m loads(res_info)\n",
      "\u001b[0;32m    513\u001b[0m state[\u001b[39m\"\u001b[39m\u001b[39mcache\u001b[39m\u001b[39m\"\u001b[39m][key] \u001b[39m=\u001b[39m res\n",
      "\n",
      "File \u001b[1;32mc:\\Users\\zrbyt\\WPy64-31090\\python-3.10.9.amd64\\lib\\site-packages\\dask\\local.py:319\u001b[0m, in \u001b[0;36mreraise\u001b[1;34m(exc, tb)\u001b[0m\n",
      "\u001b[0;32m    317\u001b[0m \u001b[39mif\u001b[39;00m exc\u001b[39m.\u001b[39m__traceback__ \u001b[39mis\u001b[39;00m \u001b[39mnot\u001b[39;00m tb:\n",
      "\u001b[0;32m    318\u001b[0m     \u001b[39mraise\u001b[39;00m exc\u001b[39m.\u001b[39mwith_traceback(tb)\n",
      "\u001b[1;32m--> 319\u001b[0m \u001b[39mraise\u001b[39;00m exc\n",
      "\n",
      "File \u001b[1;32mc:\\Users\\zrbyt\\WPy64-31090\\python-3.10.9.amd64\\lib\\site-packages\\dask\\local.py:224\u001b[0m, in \u001b[0;36mexecute_task\u001b[1;34m(key, task_info, dumps, loads, get_id, pack_exception)\u001b[0m\n",
      "\u001b[0;32m    222\u001b[0m \u001b[39mtry\u001b[39;00m:\n",
      "\u001b[0;32m    223\u001b[0m     task, data \u001b[39m=\u001b[39m loads(task_info)\n",
      "\u001b[1;32m--> 224\u001b[0m     result \u001b[39m=\u001b[39m _execute_task(task, data)\n",
      "\u001b[0;32m    225\u001b[0m     \u001b[39mid\u001b[39m \u001b[39m=\u001b[39m get_id()\n",
      "\u001b[0;32m    226\u001b[0m     result \u001b[39m=\u001b[39m dumps((result, \u001b[39mid\u001b[39m))\n",
      "\n",
      "Cell \u001b[1;32mIn[151], line 4\u001b[0m, in \u001b[0;36mbgsubtract_wrap\u001b[1;34m(y_data)\u001b[0m\n",
      "\u001b[0;32m      2\u001b[0m y_data_nobg \u001b[39m=\u001b[39m np\u001b[39m.\u001b[39mempty_like(y_data)\n",
      "\u001b[0;32m      3\u001b[0m rshift \u001b[39m=\u001b[39m data_flat[\u001b[39m'\u001b[39m\u001b[39mramanshift\u001b[39m\u001b[39m'\u001b[39m]\u001b[39m.\u001b[39mvalues\n",
      "\u001b[1;32m----> 4\u001b[0m y_data_nobg, _, _, _, _ \u001b[39m=\u001b[39m rt\u001b[39m.\u001b[39;49mbgsubtract(rshift, y_data)\n",
      "\u001b[0;32m      5\u001b[0m \u001b[39mreturn\u001b[39;00m y_data_nobg\n",
      "\n",
      "File \u001b[1;32mc:\\Users\\zrbyt\\GitHub\\ramantools\\ramantools.py:586\u001b[0m, in \u001b[0;36mbgsubtract\u001b[1;34m(x_data, y_data, polyorder, toplot, hmin, hmax, wmin, wmax, prom, exclusion_factor, peak_pos)\u001b[0m\n",
      "\u001b[0;32m    538\u001b[0m \u001b[39m\"\"\"Takes Raman shift and Raman intensity data and automatically finds peaks in the spectrum, using :py:mod:`scipy.find_peaks`.\u001b[39;00m\n",
      "\u001b[0;32m    539\u001b[0m \u001b[39mThese peaks are then used to define the areas of the background signal.\u001b[39;00m\n",
      "\u001b[0;32m    540\u001b[0m \u001b[39mIn the areas with the peaks removed, the background is fitted by a polynomial of order given by the optional argument: ``polyorder``.\u001b[39;00m\n",
      "\u001b[1;32m   (...)\u001b[0m\n",
      "\u001b[0;32m    581\u001b[0m \n",
      "\u001b[0;32m    582\u001b[0m \u001b[39m\"\"\"\u001b[39;00m\n",
      "\u001b[0;32m    583\u001b[0m \u001b[39mif\u001b[39;00m peak_pos \u001b[39mis\u001b[39;00m \u001b[39mNone\u001b[39;00m:\n",
      "\u001b[0;32m    584\u001b[0m \t\u001b[39m# Find the peaks with specified minimum height and width\u001b[39;00m\n",
      "\u001b[0;32m    585\u001b[0m \t\u001b[39m# re_height sets the width from the maximum at which value the width is evaluated\u001b[39;00m\n",
      "\u001b[1;32m--> 586\u001b[0m \tpeak_properties \u001b[39m=\u001b[39m find_peaks(y_data, height \u001b[39m=\u001b[39;49m (hmin, hmax), width \u001b[39m=\u001b[39;49m (wmin, wmax), prominence \u001b[39m=\u001b[39;49m prom, rel_height \u001b[39m=\u001b[39;49m \u001b[39m0.5\u001b[39;49m)\n",
      "\u001b[0;32m    588\u001b[0m \t\u001b[39m# Find the indices of the peaks\u001b[39;00m\n",
      "\u001b[0;32m    589\u001b[0m \tpeak_indices \u001b[39m=\u001b[39m peak_properties[\u001b[39m0\u001b[39m]\n",
      "\n",
      "File \u001b[1;32mc:\\Users\\zrbyt\\WPy64-31090\\python-3.10.9.amd64\\lib\\site-packages\\scipy\\signal\\_peak_finding.py:939\u001b[0m, in \u001b[0;36mfind_peaks\u001b[1;34m(x, height, threshold, distance, prominence, width, wlen, rel_height, plateau_size)\u001b[0m\n",
      "\u001b[0;32m    732\u001b[0m \u001b[39m\"\"\"\u001b[39;00m\n",
      "\u001b[0;32m    733\u001b[0m \u001b[39mFind peaks inside a signal based on peak properties.\u001b[39;00m\n",
      "\u001b[0;32m    734\u001b[0m \n",
      "\u001b[1;32m   (...)\u001b[0m\n",
      "\u001b[0;32m    936\u001b[0m \u001b[39m>>> plt.show()\u001b[39;00m\n",
      "\u001b[0;32m    937\u001b[0m \u001b[39m\"\"\"\u001b[39;00m\n",
      "\u001b[0;32m    938\u001b[0m \u001b[39m# _argmaxima1d expects array of dtype 'float64'\u001b[39;00m\n",
      "\u001b[1;32m--> 939\u001b[0m x \u001b[39m=\u001b[39m _arg_x_as_expected(x)\n",
      "\u001b[0;32m    940\u001b[0m \u001b[39mif\u001b[39;00m distance \u001b[39mis\u001b[39;00m \u001b[39mnot\u001b[39;00m \u001b[39mNone\u001b[39;00m \u001b[39mand\u001b[39;00m distance \u001b[39m<\u001b[39m \u001b[39m1\u001b[39m:\n",
      "\u001b[0;32m    941\u001b[0m     \u001b[39mraise\u001b[39;00m \u001b[39mValueError\u001b[39;00m(\u001b[39m'\u001b[39m\u001b[39m`distance` must be greater or equal to 1\u001b[39m\u001b[39m'\u001b[39m)\n",
      "\n",
      "File \u001b[1;32mc:\\Users\\zrbyt\\WPy64-31090\\python-3.10.9.amd64\\lib\\site-packages\\scipy\\signal\\_peak_finding.py:267\u001b[0m, in \u001b[0;36m_arg_x_as_expected\u001b[1;34m(value)\u001b[0m\n",
      "\u001b[0;32m    265\u001b[0m value \u001b[39m=\u001b[39m np\u001b[39m.\u001b[39masarray(value, order\u001b[39m=\u001b[39m\u001b[39m'\u001b[39m\u001b[39mC\u001b[39m\u001b[39m'\u001b[39m, dtype\u001b[39m=\u001b[39mnp\u001b[39m.\u001b[39mfloat64)\n",
      "\u001b[0;32m    266\u001b[0m \u001b[39mif\u001b[39;00m value\u001b[39m.\u001b[39mndim \u001b[39m!=\u001b[39m \u001b[39m1\u001b[39m:\n",
      "\u001b[1;32m--> 267\u001b[0m     \u001b[39mraise\u001b[39;00m \u001b[39mValueError\u001b[39;00m(\u001b[39m'\u001b[39m\u001b[39m`x` must be a 1-D array\u001b[39m\u001b[39m'\u001b[39m)\n",
      "\u001b[0;32m    268\u001b[0m \u001b[39mreturn\u001b[39;00m value\n",
      "\n",
      "\u001b[1;31mValueError\u001b[0m: `x` must be a 1-D array"
     ]
    }
   ],
   "source": [
    "data_flat_res = y_data_nobg_dask.compute()"
   ]
  },
  {
   "cell_type": "markdown",
   "metadata": {},
   "source": [
    "Simple `dask` example"
   ]
  },
  {
   "cell_type": "code",
   "execution_count": null,
   "metadata": {},
   "outputs": [],
   "source": [
    "# Create a large 3D array with Dask.\n",
    "x = da.random.random((1000, 100, 100), chunks=(100, 100, 100))"
   ]
  },
  {
   "cell_type": "code",
   "execution_count": null,
   "metadata": {},
   "outputs": [
    {
     "data": {
      "text/html": [
       "<table>\n",
       "    <tr>\n",
       "        <td>\n",
       "            <table style=\"border-collapse: collapse;\">\n",
       "                <thead>\n",
       "                    <tr>\n",
       "                        <td> </td>\n",
       "                        <th> Array </th>\n",
       "                        <th> Chunk </th>\n",
       "                    </tr>\n",
       "                </thead>\n",
       "                <tbody>\n",
       "                    \n",
       "                    <tr>\n",
       "                        <th> Bytes </th>\n",
       "                        <td> 76.29 MiB </td>\n",
       "                        <td> 7.63 MiB </td>\n",
       "                    </tr>\n",
       "                    \n",
       "                    <tr>\n",
       "                        <th> Shape </th>\n",
       "                        <td> (1000, 100, 100) </td>\n",
       "                        <td> (100, 100, 100) </td>\n",
       "                    </tr>\n",
       "                    <tr>\n",
       "                        <th> Dask graph </th>\n",
       "                        <td colspan=\"2\"> 10 chunks in 1 graph layer </td>\n",
       "                    </tr>\n",
       "                    <tr>\n",
       "                        <th> Data type </th>\n",
       "                        <td colspan=\"2\"> float64 numpy.ndarray </td>\n",
       "                    </tr>\n",
       "                </tbody>\n",
       "            </table>\n",
       "        </td>\n",
       "        <td>\n",
       "        <svg width=\"169\" height=\"159\" style=\"stroke:rgb(0,0,0);stroke-width:1\" >\n",
       "\n",
       "  <!-- Horizontal lines -->\n",
       "  <line x1=\"10\" y1=\"0\" x2=\"80\" y2=\"70\" style=\"stroke-width:2\" />\n",
       "  <line x1=\"10\" y1=\"38\" x2=\"80\" y2=\"109\" style=\"stroke-width:2\" />\n",
       "\n",
       "  <!-- Vertical lines -->\n",
       "  <line x1=\"10\" y1=\"0\" x2=\"10\" y2=\"38\" style=\"stroke-width:2\" />\n",
       "  <line x1=\"17\" y1=\"7\" x2=\"17\" y2=\"45\" />\n",
       "  <line x1=\"24\" y1=\"14\" x2=\"24\" y2=\"52\" />\n",
       "  <line x1=\"31\" y1=\"21\" x2=\"31\" y2=\"59\" />\n",
       "  <line x1=\"38\" y1=\"28\" x2=\"38\" y2=\"66\" />\n",
       "  <line x1=\"45\" y1=\"35\" x2=\"45\" y2=\"73\" />\n",
       "  <line x1=\"52\" y1=\"42\" x2=\"52\" y2=\"80\" />\n",
       "  <line x1=\"59\" y1=\"49\" x2=\"59\" y2=\"88\" />\n",
       "  <line x1=\"66\" y1=\"56\" x2=\"66\" y2=\"95\" />\n",
       "  <line x1=\"73\" y1=\"63\" x2=\"73\" y2=\"102\" />\n",
       "  <line x1=\"80\" y1=\"70\" x2=\"80\" y2=\"109\" style=\"stroke-width:2\" />\n",
       "\n",
       "  <!-- Colored Rectangle -->\n",
       "  <polygon points=\"10.0,0.0 80.58823529411765,70.58823529411765 80.58823529411765,109.18509833020366 10.0,38.596863036086\" style=\"fill:#ECB172A0;stroke-width:0\"/>\n",
       "\n",
       "  <!-- Horizontal lines -->\n",
       "  <line x1=\"10\" y1=\"0\" x2=\"48\" y2=\"0\" style=\"stroke-width:2\" />\n",
       "  <line x1=\"17\" y1=\"7\" x2=\"55\" y2=\"7\" />\n",
       "  <line x1=\"24\" y1=\"14\" x2=\"62\" y2=\"14\" />\n",
       "  <line x1=\"31\" y1=\"21\" x2=\"69\" y2=\"21\" />\n",
       "  <line x1=\"38\" y1=\"28\" x2=\"76\" y2=\"28\" />\n",
       "  <line x1=\"45\" y1=\"35\" x2=\"83\" y2=\"35\" />\n",
       "  <line x1=\"52\" y1=\"42\" x2=\"90\" y2=\"42\" />\n",
       "  <line x1=\"59\" y1=\"49\" x2=\"98\" y2=\"49\" />\n",
       "  <line x1=\"66\" y1=\"56\" x2=\"105\" y2=\"56\" />\n",
       "  <line x1=\"73\" y1=\"63\" x2=\"112\" y2=\"63\" />\n",
       "  <line x1=\"80\" y1=\"70\" x2=\"119\" y2=\"70\" style=\"stroke-width:2\" />\n",
       "\n",
       "  <!-- Vertical lines -->\n",
       "  <line x1=\"10\" y1=\"0\" x2=\"80\" y2=\"70\" style=\"stroke-width:2\" />\n",
       "  <line x1=\"48\" y1=\"0\" x2=\"119\" y2=\"70\" style=\"stroke-width:2\" />\n",
       "\n",
       "  <!-- Colored Rectangle -->\n",
       "  <polygon points=\"10.0,0.0 48.596863036086,0.0 119.18509833020366,70.58823529411765 80.58823529411765,70.58823529411765\" style=\"fill:#ECB172A0;stroke-width:0\"/>\n",
       "\n",
       "  <!-- Horizontal lines -->\n",
       "  <line x1=\"80\" y1=\"70\" x2=\"119\" y2=\"70\" style=\"stroke-width:2\" />\n",
       "  <line x1=\"80\" y1=\"109\" x2=\"119\" y2=\"109\" style=\"stroke-width:2\" />\n",
       "\n",
       "  <!-- Vertical lines -->\n",
       "  <line x1=\"80\" y1=\"70\" x2=\"80\" y2=\"109\" style=\"stroke-width:2\" />\n",
       "  <line x1=\"119\" y1=\"70\" x2=\"119\" y2=\"109\" style=\"stroke-width:2\" />\n",
       "\n",
       "  <!-- Colored Rectangle -->\n",
       "  <polygon points=\"80.58823529411765,70.58823529411765 119.18509833020366,70.58823529411765 119.18509833020366,109.18509833020366 80.58823529411765,109.18509833020366\" style=\"fill:#ECB172A0;stroke-width:0\"/>\n",
       "\n",
       "  <!-- Text -->\n",
       "  <text x=\"99.886667\" y=\"129.185098\" font-size=\"1.0rem\" font-weight=\"100\" text-anchor=\"middle\" >100</text>\n",
       "  <text x=\"139.185098\" y=\"89.886667\" font-size=\"1.0rem\" font-weight=\"100\" text-anchor=\"middle\" transform=\"rotate(-90,139.185098,89.886667)\">100</text>\n",
       "  <text x=\"35.294118\" y=\"93.890981\" font-size=\"1.0rem\" font-weight=\"100\" text-anchor=\"middle\" transform=\"rotate(45,35.294118,93.890981)\">1000</text>\n",
       "</svg>\n",
       "        </td>\n",
       "    </tr>\n",
       "</table>"
      ],
      "text/plain": [
       "dask.array<random_sample, shape=(1000, 100, 100), dtype=float64, chunksize=(100, 100, 100), chunktype=numpy.ndarray>"
      ]
     },
     "metadata": {},
     "output_type": "display_data"
    }
   ],
   "source": [
    "x"
   ]
  },
  {
   "cell_type": "code",
   "execution_count": null,
   "metadata": {},
   "outputs": [],
   "source": [
    "def linear_fit(data):\n",
    "    \"\"\"Apply a linear fit to the data along the first axis.\"\"\"\n",
    "    # Reshape the data to 2D.\n",
    "    original_shape = data.shape\n",
    "    data = data.reshape(original_shape[0], -1)\n",
    "    x = np.arange(data.shape[0])\n",
    "    y = data\n",
    "    coeffs = np.polyfit(x, y, 1)\n",
    "    # We need to reshape the coefficients back to the original shape before returning them.\n",
    "    return coeffs.reshape((coeffs.shape[0],) + original_shape[1:])\n"
   ]
  },
  {
   "cell_type": "code",
   "execution_count": null,
   "metadata": {},
   "outputs": [],
   "source": [
    "result = x.map_blocks(linear_fit, dtype=x.dtype, drop_axis=0, new_axis=[0])"
   ]
  },
  {
   "cell_type": "code",
   "execution_count": null,
   "metadata": {},
   "outputs": [],
   "source": [
    "computed_result = result.compute()"
   ]
  },
  {
   "cell_type": "code",
   "execution_count": null,
   "metadata": {},
   "outputs": [
    {
     "data": {
      "text/plain": [
       "(2, 100, 100)"
      ]
     },
     "metadata": {},
     "output_type": "display_data"
    }
   ],
   "source": [
    "computed_result.shape"
   ]
  },
  {
   "cell_type": "markdown",
   "metadata": {},
   "source": [
    "Using `xarray`"
   ]
  },
  {
   "cell_type": "code",
   "execution_count": null,
   "metadata": {},
   "outputs": [],
   "source": [
    "# Create a DataArray with the same data as before\n",
    "x = xr.DataArray(da.random.random((1000, 100, 100), chunks=(100, 100, 100)), dims=['x', 'y', 'z'])"
   ]
  },
  {
   "cell_type": "code",
   "execution_count": null,
   "metadata": {},
   "outputs": [],
   "source": [
    "def linear_fit(data):\n",
    "    \"\"\"Apply a linear fit to the data along the first axis.\"\"\"\n",
    "    # Reshape the data to 2D.\n",
    "    data_array = data.values\n",
    "    original_shape = data_array.shape\n",
    "    data_array = data_array.reshape(original_shape[0], -1)\n",
    "    x = np.arange(data_array.shape[0])\n",
    "    y = data_array\n",
    "    coeffs = np.polyfit(x, y, 1)\n",
    "    # We need to reshape the coefficients back to 3D before returning them.\n",
    "    return xr.DataArray(coeffs.reshape((-1,) + original_shape[1:]), dims=['coeff', 'y', 'z'])\n"
   ]
  },
  {
   "cell_type": "code",
   "execution_count": null,
   "metadata": {},
   "outputs": [],
   "source": [
    "# Create a template with the same chunking as the original array\n",
    "template = xr.DataArray(da.zeros((2,) + x.shape[1:], chunks=(2,) + x.chunks[1:]), dims=['coeff', 'y', 'z'])\n"
   ]
  },
  {
   "cell_type": "code",
   "execution_count": null,
   "metadata": {},
   "outputs": [],
   "source": [
    "result = x.map_blocks(linear_fit, template=template)"
   ]
  },
  {
   "cell_type": "code",
   "execution_count": null,
   "metadata": {},
   "outputs": [],
   "source": [
    "computed_result = result.compute()"
   ]
  },
  {
   "cell_type": "code",
   "execution_count": null,
   "metadata": {},
   "outputs": [
    {
     "data": {
      "text/html": [
       "<div><svg style=\"position: absolute; width: 0; height: 0; overflow: hidden\">\n",
       "<defs>\n",
       "<symbol id=\"icon-database\" viewBox=\"0 0 32 32\">\n",
       "<path d=\"M16 0c-8.837 0-16 2.239-16 5v4c0 2.761 7.163 5 16 5s16-2.239 16-5v-4c0-2.761-7.163-5-16-5z\"></path>\n",
       "<path d=\"M16 17c-8.837 0-16-2.239-16-5v6c0 2.761 7.163 5 16 5s16-2.239 16-5v-6c0 2.761-7.163 5-16 5z\"></path>\n",
       "<path d=\"M16 26c-8.837 0-16-2.239-16-5v6c0 2.761 7.163 5 16 5s16-2.239 16-5v-6c0 2.761-7.163 5-16 5z\"></path>\n",
       "</symbol>\n",
       "<symbol id=\"icon-file-text2\" viewBox=\"0 0 32 32\">\n",
       "<path d=\"M28.681 7.159c-0.694-0.947-1.662-2.053-2.724-3.116s-2.169-2.030-3.116-2.724c-1.612-1.182-2.393-1.319-2.841-1.319h-15.5c-1.378 0-2.5 1.121-2.5 2.5v27c0 1.378 1.122 2.5 2.5 2.5h23c1.378 0 2.5-1.122 2.5-2.5v-19.5c0-0.448-0.137-1.23-1.319-2.841zM24.543 5.457c0.959 0.959 1.712 1.825 2.268 2.543h-4.811v-4.811c0.718 0.556 1.584 1.309 2.543 2.268zM28 29.5c0 0.271-0.229 0.5-0.5 0.5h-23c-0.271 0-0.5-0.229-0.5-0.5v-27c0-0.271 0.229-0.5 0.5-0.5 0 0 15.499-0 15.5 0v7c0 0.552 0.448 1 1 1h7v19.5z\"></path>\n",
       "<path d=\"M23 26h-14c-0.552 0-1-0.448-1-1s0.448-1 1-1h14c0.552 0 1 0.448 1 1s-0.448 1-1 1z\"></path>\n",
       "<path d=\"M23 22h-14c-0.552 0-1-0.448-1-1s0.448-1 1-1h14c0.552 0 1 0.448 1 1s-0.448 1-1 1z\"></path>\n",
       "<path d=\"M23 18h-14c-0.552 0-1-0.448-1-1s0.448-1 1-1h14c0.552 0 1 0.448 1 1s-0.448 1-1 1z\"></path>\n",
       "</symbol>\n",
       "</defs>\n",
       "</svg>\n",
       "<style>/* CSS stylesheet for displaying xarray objects in jupyterlab.\n",
       " *\n",
       " */\n",
       "\n",
       ":root {\n",
       "  --xr-font-color0: var(--jp-content-font-color0, rgba(0, 0, 0, 1));\n",
       "  --xr-font-color2: var(--jp-content-font-color2, rgba(0, 0, 0, 0.54));\n",
       "  --xr-font-color3: var(--jp-content-font-color3, rgba(0, 0, 0, 0.38));\n",
       "  --xr-border-color: var(--jp-border-color2, #e0e0e0);\n",
       "  --xr-disabled-color: var(--jp-layout-color3, #bdbdbd);\n",
       "  --xr-background-color: var(--jp-layout-color0, white);\n",
       "  --xr-background-color-row-even: var(--jp-layout-color1, white);\n",
       "  --xr-background-color-row-odd: var(--jp-layout-color2, #eeeeee);\n",
       "}\n",
       "\n",
       "html[theme=dark],\n",
       "body[data-theme=dark],\n",
       "body.vscode-dark {\n",
       "  --xr-font-color0: rgba(255, 255, 255, 1);\n",
       "  --xr-font-color2: rgba(255, 255, 255, 0.54);\n",
       "  --xr-font-color3: rgba(255, 255, 255, 0.38);\n",
       "  --xr-border-color: #1F1F1F;\n",
       "  --xr-disabled-color: #515151;\n",
       "  --xr-background-color: #111111;\n",
       "  --xr-background-color-row-even: #111111;\n",
       "  --xr-background-color-row-odd: #313131;\n",
       "}\n",
       "\n",
       ".xr-wrap {\n",
       "  display: block !important;\n",
       "  min-width: 300px;\n",
       "  max-width: 700px;\n",
       "}\n",
       "\n",
       ".xr-text-repr-fallback {\n",
       "  /* fallback to plain text repr when CSS is not injected (untrusted notebook) */\n",
       "  display: none;\n",
       "}\n",
       "\n",
       ".xr-header {\n",
       "  padding-top: 6px;\n",
       "  padding-bottom: 6px;\n",
       "  margin-bottom: 4px;\n",
       "  border-bottom: solid 1px var(--xr-border-color);\n",
       "}\n",
       "\n",
       ".xr-header > div,\n",
       ".xr-header > ul {\n",
       "  display: inline;\n",
       "  margin-top: 0;\n",
       "  margin-bottom: 0;\n",
       "}\n",
       "\n",
       ".xr-obj-type,\n",
       ".xr-array-name {\n",
       "  margin-left: 2px;\n",
       "  margin-right: 10px;\n",
       "}\n",
       "\n",
       ".xr-obj-type {\n",
       "  color: var(--xr-font-color2);\n",
       "}\n",
       "\n",
       ".xr-sections {\n",
       "  padding-left: 0 !important;\n",
       "  display: grid;\n",
       "  grid-template-columns: 150px auto auto 1fr 20px 20px;\n",
       "}\n",
       "\n",
       ".xr-section-item {\n",
       "  display: contents;\n",
       "}\n",
       "\n",
       ".xr-section-item input {\n",
       "  display: none;\n",
       "}\n",
       "\n",
       ".xr-section-item input + label {\n",
       "  color: var(--xr-disabled-color);\n",
       "}\n",
       "\n",
       ".xr-section-item input:enabled + label {\n",
       "  cursor: pointer;\n",
       "  color: var(--xr-font-color2);\n",
       "}\n",
       "\n",
       ".xr-section-item input:enabled + label:hover {\n",
       "  color: var(--xr-font-color0);\n",
       "}\n",
       "\n",
       ".xr-section-summary {\n",
       "  grid-column: 1;\n",
       "  color: var(--xr-font-color2);\n",
       "  font-weight: 500;\n",
       "}\n",
       "\n",
       ".xr-section-summary > span {\n",
       "  display: inline-block;\n",
       "  padding-left: 0.5em;\n",
       "}\n",
       "\n",
       ".xr-section-summary-in:disabled + label {\n",
       "  color: var(--xr-font-color2);\n",
       "}\n",
       "\n",
       ".xr-section-summary-in + label:before {\n",
       "  display: inline-block;\n",
       "  content: '►';\n",
       "  font-size: 11px;\n",
       "  width: 15px;\n",
       "  text-align: center;\n",
       "}\n",
       "\n",
       ".xr-section-summary-in:disabled + label:before {\n",
       "  color: var(--xr-disabled-color);\n",
       "}\n",
       "\n",
       ".xr-section-summary-in:checked + label:before {\n",
       "  content: '▼';\n",
       "}\n",
       "\n",
       ".xr-section-summary-in:checked + label > span {\n",
       "  display: none;\n",
       "}\n",
       "\n",
       ".xr-section-summary,\n",
       ".xr-section-inline-details {\n",
       "  padding-top: 4px;\n",
       "  padding-bottom: 4px;\n",
       "}\n",
       "\n",
       ".xr-section-inline-details {\n",
       "  grid-column: 2 / -1;\n",
       "}\n",
       "\n",
       ".xr-section-details {\n",
       "  display: none;\n",
       "  grid-column: 1 / -1;\n",
       "  margin-bottom: 5px;\n",
       "}\n",
       "\n",
       ".xr-section-summary-in:checked ~ .xr-section-details {\n",
       "  display: contents;\n",
       "}\n",
       "\n",
       ".xr-array-wrap {\n",
       "  grid-column: 1 / -1;\n",
       "  display: grid;\n",
       "  grid-template-columns: 20px auto;\n",
       "}\n",
       "\n",
       ".xr-array-wrap > label {\n",
       "  grid-column: 1;\n",
       "  vertical-align: top;\n",
       "}\n",
       "\n",
       ".xr-preview {\n",
       "  color: var(--xr-font-color3);\n",
       "}\n",
       "\n",
       ".xr-array-preview,\n",
       ".xr-array-data {\n",
       "  padding: 0 5px !important;\n",
       "  grid-column: 2;\n",
       "}\n",
       "\n",
       ".xr-array-data,\n",
       ".xr-array-in:checked ~ .xr-array-preview {\n",
       "  display: none;\n",
       "}\n",
       "\n",
       ".xr-array-in:checked ~ .xr-array-data,\n",
       ".xr-array-preview {\n",
       "  display: inline-block;\n",
       "}\n",
       "\n",
       ".xr-dim-list {\n",
       "  display: inline-block !important;\n",
       "  list-style: none;\n",
       "  padding: 0 !important;\n",
       "  margin: 0;\n",
       "}\n",
       "\n",
       ".xr-dim-list li {\n",
       "  display: inline-block;\n",
       "  padding: 0;\n",
       "  margin: 0;\n",
       "}\n",
       "\n",
       ".xr-dim-list:before {\n",
       "  content: '(';\n",
       "}\n",
       "\n",
       ".xr-dim-list:after {\n",
       "  content: ')';\n",
       "}\n",
       "\n",
       ".xr-dim-list li:not(:last-child):after {\n",
       "  content: ',';\n",
       "  padding-right: 5px;\n",
       "}\n",
       "\n",
       ".xr-has-index {\n",
       "  font-weight: bold;\n",
       "}\n",
       "\n",
       ".xr-var-list,\n",
       ".xr-var-item {\n",
       "  display: contents;\n",
       "}\n",
       "\n",
       ".xr-var-item > div,\n",
       ".xr-var-item label,\n",
       ".xr-var-item > .xr-var-name span {\n",
       "  background-color: var(--xr-background-color-row-even);\n",
       "  margin-bottom: 0;\n",
       "}\n",
       "\n",
       ".xr-var-item > .xr-var-name:hover span {\n",
       "  padding-right: 5px;\n",
       "}\n",
       "\n",
       ".xr-var-list > li:nth-child(odd) > div,\n",
       ".xr-var-list > li:nth-child(odd) > label,\n",
       ".xr-var-list > li:nth-child(odd) > .xr-var-name span {\n",
       "  background-color: var(--xr-background-color-row-odd);\n",
       "}\n",
       "\n",
       ".xr-var-name {\n",
       "  grid-column: 1;\n",
       "}\n",
       "\n",
       ".xr-var-dims {\n",
       "  grid-column: 2;\n",
       "}\n",
       "\n",
       ".xr-var-dtype {\n",
       "  grid-column: 3;\n",
       "  text-align: right;\n",
       "  color: var(--xr-font-color2);\n",
       "}\n",
       "\n",
       ".xr-var-preview {\n",
       "  grid-column: 4;\n",
       "}\n",
       "\n",
       ".xr-index-preview {\n",
       "  grid-column: 2 / 5;\n",
       "  color: var(--xr-font-color2);\n",
       "}\n",
       "\n",
       ".xr-var-name,\n",
       ".xr-var-dims,\n",
       ".xr-var-dtype,\n",
       ".xr-preview,\n",
       ".xr-attrs dt {\n",
       "  white-space: nowrap;\n",
       "  overflow: hidden;\n",
       "  text-overflow: ellipsis;\n",
       "  padding-right: 10px;\n",
       "}\n",
       "\n",
       ".xr-var-name:hover,\n",
       ".xr-var-dims:hover,\n",
       ".xr-var-dtype:hover,\n",
       ".xr-attrs dt:hover {\n",
       "  overflow: visible;\n",
       "  width: auto;\n",
       "  z-index: 1;\n",
       "}\n",
       "\n",
       ".xr-var-attrs,\n",
       ".xr-var-data,\n",
       ".xr-index-data {\n",
       "  display: none;\n",
       "  background-color: var(--xr-background-color) !important;\n",
       "  padding-bottom: 5px !important;\n",
       "}\n",
       "\n",
       ".xr-var-attrs-in:checked ~ .xr-var-attrs,\n",
       ".xr-var-data-in:checked ~ .xr-var-data,\n",
       ".xr-index-data-in:checked ~ .xr-index-data {\n",
       "  display: block;\n",
       "}\n",
       "\n",
       ".xr-var-data > table {\n",
       "  float: right;\n",
       "}\n",
       "\n",
       ".xr-var-name span,\n",
       ".xr-var-data,\n",
       ".xr-index-name div,\n",
       ".xr-index-data,\n",
       ".xr-attrs {\n",
       "  padding-left: 25px !important;\n",
       "}\n",
       "\n",
       ".xr-attrs,\n",
       ".xr-var-attrs,\n",
       ".xr-var-data,\n",
       ".xr-index-data {\n",
       "  grid-column: 1 / -1;\n",
       "}\n",
       "\n",
       "dl.xr-attrs {\n",
       "  padding: 0;\n",
       "  margin: 0;\n",
       "  display: grid;\n",
       "  grid-template-columns: 125px auto;\n",
       "}\n",
       "\n",
       ".xr-attrs dt,\n",
       ".xr-attrs dd {\n",
       "  padding: 0;\n",
       "  margin: 0;\n",
       "  float: left;\n",
       "  padding-right: 10px;\n",
       "  width: auto;\n",
       "}\n",
       "\n",
       ".xr-attrs dt {\n",
       "  font-weight: normal;\n",
       "  grid-column: 1;\n",
       "}\n",
       "\n",
       ".xr-attrs dt:hover span {\n",
       "  display: inline-block;\n",
       "  background: var(--xr-background-color);\n",
       "  padding-right: 10px;\n",
       "}\n",
       "\n",
       ".xr-attrs dd {\n",
       "  grid-column: 2;\n",
       "  white-space: pre-wrap;\n",
       "  word-break: break-all;\n",
       "}\n",
       "\n",
       ".xr-icon-database,\n",
       ".xr-icon-file-text2,\n",
       ".xr-no-icon {\n",
       "  display: inline-block;\n",
       "  vertical-align: middle;\n",
       "  width: 1em;\n",
       "  height: 1.5em !important;\n",
       "  stroke-width: 0;\n",
       "  stroke: currentColor;\n",
       "  fill: currentColor;\n",
       "}\n",
       "</style><pre class='xr-text-repr-fallback'>&lt;xarray.DataArray &#x27;zeros_like-c0374c545df1e190b6c6f6caa4031477&#x27; (coeff: 2,\n",
       "                                                                 y: 100, z: 100)&gt;\n",
       "array([[[-1.48126079e-03, -1.10084648e-03,  1.81801329e-03, ...,\n",
       "          3.78356845e-04, -1.37498139e-03,  1.01976240e-03],\n",
       "        [ 1.52428956e-03, -7.23753209e-04, -7.64097342e-04, ...,\n",
       "          9.11552458e-04, -7.31586733e-04, -1.38176448e-03],\n",
       "        [ 9.87746183e-05, -1.19424381e-03,  3.36971224e-04, ...,\n",
       "         -5.32753919e-04, -9.10767862e-04,  3.05598464e-04],\n",
       "        ...,\n",
       "        [-5.88950719e-04, -6.44343798e-04,  1.45432423e-03, ...,\n",
       "         -1.06168400e-03, -4.13515328e-04,  2.09126227e-04],\n",
       "        [ 9.14656160e-04, -1.50586129e-03,  1.87964993e-03, ...,\n",
       "         -1.64225261e-03,  3.85261102e-04, -5.64069251e-04],\n",
       "        [ 5.29288683e-04,  7.01806816e-04,  3.35740321e-04, ...,\n",
       "          1.53482120e-04,  1.19332089e-03,  7.35516636e-04]],\n",
       "\n",
       "       [[ 5.99519658e-01,  5.12086930e-01,  3.88351740e-01, ...,\n",
       "          4.73463313e-01,  5.84792173e-01,  4.46749488e-01],\n",
       "        [ 4.70138999e-01,  5.17906604e-01,  5.42134771e-01, ...,\n",
       "          4.36566184e-01,  5.27894254e-01,  5.57201871e-01],\n",
       "        [ 5.07668890e-01,  5.42714879e-01,  4.69588256e-01, ...,\n",
       "          5.26278216e-01,  4.96123108e-01,  4.70833159e-01],\n",
       "        ...,\n",
       "        [ 4.88655182e-01,  5.26170321e-01,  4.51185490e-01, ...,\n",
       "          5.57048264e-01,  4.97828729e-01,  4.49298218e-01],\n",
       "        [ 4.93387581e-01,  6.12720976e-01,  3.96405773e-01, ...,\n",
       "          5.63833140e-01,  4.55590812e-01,  5.05034629e-01],\n",
       "        [ 4.78569921e-01,  5.24803438e-01,  4.92599519e-01, ...,\n",
       "          4.45191230e-01,  4.68153589e-01,  4.68384579e-01]]])\n",
       "Dimensions without coordinates: coeff, y, z</pre><div class='xr-wrap' style='display:none'><div class='xr-header'><div class='xr-obj-type'>xarray.DataArray</div><div class='xr-array-name'>'zeros_like-c0374c545df1e190b6c6f6caa4031477'</div><ul class='xr-dim-list'><li><span>coeff</span>: 2</li><li><span>y</span>: 100</li><li><span>z</span>: 100</li></ul></div><ul class='xr-sections'><li class='xr-section-item'><div class='xr-array-wrap'><input id='section-989e03a3-a2fb-4cf5-8185-572637e66d44' class='xr-array-in' type='checkbox' checked><label for='section-989e03a3-a2fb-4cf5-8185-572637e66d44' title='Show/hide data repr'><svg class='icon xr-icon-database'><use xlink:href='#icon-database'></use></svg></label><div class='xr-array-preview xr-preview'><span>-0.001481 -0.001101 0.001818 -0.002424 ... 0.4606 0.4452 0.4682 0.4684</span></div><div class='xr-array-data'><pre>array([[[-1.48126079e-03, -1.10084648e-03,  1.81801329e-03, ...,\n",
       "          3.78356845e-04, -1.37498139e-03,  1.01976240e-03],\n",
       "        [ 1.52428956e-03, -7.23753209e-04, -7.64097342e-04, ...,\n",
       "          9.11552458e-04, -7.31586733e-04, -1.38176448e-03],\n",
       "        [ 9.87746183e-05, -1.19424381e-03,  3.36971224e-04, ...,\n",
       "         -5.32753919e-04, -9.10767862e-04,  3.05598464e-04],\n",
       "        ...,\n",
       "        [-5.88950719e-04, -6.44343798e-04,  1.45432423e-03, ...,\n",
       "         -1.06168400e-03, -4.13515328e-04,  2.09126227e-04],\n",
       "        [ 9.14656160e-04, -1.50586129e-03,  1.87964993e-03, ...,\n",
       "         -1.64225261e-03,  3.85261102e-04, -5.64069251e-04],\n",
       "        [ 5.29288683e-04,  7.01806816e-04,  3.35740321e-04, ...,\n",
       "          1.53482120e-04,  1.19332089e-03,  7.35516636e-04]],\n",
       "\n",
       "       [[ 5.99519658e-01,  5.12086930e-01,  3.88351740e-01, ...,\n",
       "          4.73463313e-01,  5.84792173e-01,  4.46749488e-01],\n",
       "        [ 4.70138999e-01,  5.17906604e-01,  5.42134771e-01, ...,\n",
       "          4.36566184e-01,  5.27894254e-01,  5.57201871e-01],\n",
       "        [ 5.07668890e-01,  5.42714879e-01,  4.69588256e-01, ...,\n",
       "          5.26278216e-01,  4.96123108e-01,  4.70833159e-01],\n",
       "        ...,\n",
       "        [ 4.88655182e-01,  5.26170321e-01,  4.51185490e-01, ...,\n",
       "          5.57048264e-01,  4.97828729e-01,  4.49298218e-01],\n",
       "        [ 4.93387581e-01,  6.12720976e-01,  3.96405773e-01, ...,\n",
       "          5.63833140e-01,  4.55590812e-01,  5.05034629e-01],\n",
       "        [ 4.78569921e-01,  5.24803438e-01,  4.92599519e-01, ...,\n",
       "          4.45191230e-01,  4.68153589e-01,  4.68384579e-01]]])</pre></div></div></li><li class='xr-section-item'><input id='section-74a11fbb-631e-4e53-a3d4-6a3b8d05fd47' class='xr-section-summary-in' type='checkbox' disabled ><label for='section-74a11fbb-631e-4e53-a3d4-6a3b8d05fd47' class='xr-section-summary'  title='Expand/collapse section'>Coordinates: <span>(0)</span></label><div class='xr-section-inline-details'></div><div class='xr-section-details'><ul class='xr-var-list'></ul></div></li><li class='xr-section-item'><input id='section-83c5e268-c3fc-4ca8-ad50-11e78791d0b7' class='xr-section-summary-in' type='checkbox' disabled ><label for='section-83c5e268-c3fc-4ca8-ad50-11e78791d0b7' class='xr-section-summary'  title='Expand/collapse section'>Indexes: <span>(0)</span></label><div class='xr-section-inline-details'></div><div class='xr-section-details'><ul class='xr-var-list'></ul></div></li><li class='xr-section-item'><input id='section-0de077aa-f912-4b43-91fd-c596e8ef8c80' class='xr-section-summary-in' type='checkbox' disabled ><label for='section-0de077aa-f912-4b43-91fd-c596e8ef8c80' class='xr-section-summary'  title='Expand/collapse section'>Attributes: <span>(0)</span></label><div class='xr-section-inline-details'></div><div class='xr-section-details'><dl class='xr-attrs'></dl></div></li></ul></div></div>"
      ],
      "text/plain": [
       "<xarray.DataArray 'zeros_like-c0374c545df1e190b6c6f6caa4031477' (coeff: 2,\n",
       "                                                                 y: 100, z: 100)>\n",
       "array([[[-1.48126079e-03, -1.10084648e-03,  1.81801329e-03, ...,\n",
       "          3.78356845e-04, -1.37498139e-03,  1.01976240e-03],\n",
       "        [ 1.52428956e-03, -7.23753209e-04, -7.64097342e-04, ...,\n",
       "          9.11552458e-04, -7.31586733e-04, -1.38176448e-03],\n",
       "        [ 9.87746183e-05, -1.19424381e-03,  3.36971224e-04, ...,\n",
       "         -5.32753919e-04, -9.10767862e-04,  3.05598464e-04],\n",
       "        ...,\n",
       "        [-5.88950719e-04, -6.44343798e-04,  1.45432423e-03, ...,\n",
       "         -1.06168400e-03, -4.13515328e-04,  2.09126227e-04],\n",
       "        [ 9.14656160e-04, -1.50586129e-03,  1.87964993e-03, ...,\n",
       "         -1.64225261e-03,  3.85261102e-04, -5.64069251e-04],\n",
       "        [ 5.29288683e-04,  7.01806816e-04,  3.35740321e-04, ...,\n",
       "          1.53482120e-04,  1.19332089e-03,  7.35516636e-04]],\n",
       "\n",
       "       [[ 5.99519658e-01,  5.12086930e-01,  3.88351740e-01, ...,\n",
       "          4.73463313e-01,  5.84792173e-01,  4.46749488e-01],\n",
       "        [ 4.70138999e-01,  5.17906604e-01,  5.42134771e-01, ...,\n",
       "          4.36566184e-01,  5.27894254e-01,  5.57201871e-01],\n",
       "        [ 5.07668890e-01,  5.42714879e-01,  4.69588256e-01, ...,\n",
       "          5.26278216e-01,  4.96123108e-01,  4.70833159e-01],\n",
       "        ...,\n",
       "        [ 4.88655182e-01,  5.26170321e-01,  4.51185490e-01, ...,\n",
       "          5.57048264e-01,  4.97828729e-01,  4.49298218e-01],\n",
       "        [ 4.93387581e-01,  6.12720976e-01,  3.96405773e-01, ...,\n",
       "          5.63833140e-01,  4.55590812e-01,  5.05034629e-01],\n",
       "        [ 4.78569921e-01,  5.24803438e-01,  4.92599519e-01, ...,\n",
       "          4.45191230e-01,  4.68153589e-01,  4.68384579e-01]]])\n",
       "Dimensions without coordinates: coeff, y, z"
      ]
     },
     "metadata": {},
     "output_type": "display_data"
    }
   ],
   "source": [
    "computed_result"
   ]
  }
 ],
 "metadata": {
  "kernelspec": {
   "display_name": "Python 3",
   "language": "python",
   "name": "python3"
  },
  "language_info": {
   "codemirror_mode": {
    "name": "ipython",
    "version": 3
   },
   "file_extension": ".py",
   "mimetype": "text/x-python",
   "name": "python",
   "nbconvert_exporter": "python",
   "pygments_lexer": "ipython3",
   "version": "3.10.9"
  },
  "orig_nbformat": 4
 },
 "nbformat": 4,
 "nbformat_minor": 2
}
