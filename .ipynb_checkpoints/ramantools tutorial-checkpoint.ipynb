{
 "cells": [
  {
   "cell_type": "markdown",
   "id": "1c158d8f-53e8-432f-9db3-58c6f89ff7d4",
   "metadata": {},
   "source": [
    "One can start from this notebook, when working with Raman measurements. Just change the data path below to point to your exported Raman measurements in text files.\n",
    "One needs to export from Witec project as *table* and make sure to have the Raman shift dimensions in cm$^{-1}$."
   ]
  },
  {
   "cell_type": "code",
   "execution_count": 3,
   "id": "6a1b613e-7ed3-41e8-acbe-9fddc89ab8c8",
   "metadata": {},
   "outputs": [],
   "source": [
    "%load_ext autoreload\n",
    "%autoreload 2"
   ]
  },
  {
   "cell_type": "code",
   "execution_count": 86,
   "id": "5dd028d8-add0-4797-a67b-3533e33c4a56",
   "metadata": {},
   "outputs": [],
   "source": [
    "import ramantools as rt\n",
    "import glob, sys, re\n",
    "import pylab as pl\n",
    "import numpy as np\n",
    "import xarray as xr"
   ]
  },
  {
   "cell_type": "code",
   "execution_count": 5,
   "id": "9c9974ea-b0e7-49b3-8012-1c7d9d136a70",
   "metadata": {},
   "outputs": [],
   "source": [
    "%matplotlib widget"
   ]
  },
  {
   "cell_type": "markdown",
   "id": "75bf9997-52b8-4f03-a2a2-4d163fb4a2cf",
   "metadata": {},
   "source": [
    "# Loading a Raman map"
   ]
  },
  {
   "cell_type": "markdown",
   "id": "21698517-70f9-4db9-8265-47b4c6e9282f",
   "metadata": {},
   "source": [
    "For this we need to load the map, exported as *table* from *Witec Project* or *Witec Control*, as well as the text file next to the map. This text file is used to read the metadata of the Raman measurement."
   ]
  },
  {
   "cell_type": "code",
   "execution_count": 14,
   "id": "dd2830d7-a8df-4d93-9b48-971fbd018ee9",
   "metadata": {},
   "outputs": [],
   "source": [
    "data_path = r'C:\\Users\\zrbyt\\OneDrive - energia.mta.hu\\Documents\\work_MFA\\ABC\\G peak anomaly\\Raman measurements'\n",
    "data_path += '\\\\'\n",
    "sys.path.append(data_path)"
   ]
  },
  {
   "cell_type": "markdown",
   "id": "1d3fe512-f985-4044-ae66-fa6d7cd31863",
   "metadata": {},
   "source": [
    "Need to add `r` in front of the file path to treat it as a *raw string*, meaning that `\\` is treated as a character."
   ]
  },
  {
   "cell_type": "markdown",
   "id": "55bc5f4d-6f6c-4568-8afa-4b1c1022daba",
   "metadata": {},
   "source": [
    "Using `glob` to read the contents to the data folder above. The use of `glob` helps with searching for files according to patterns. See below, where we identify the map called: *ABC_36* and load its contents, including the text file containing the metadata."
   ]
  },
  {
   "cell_type": "code",
   "execution_count": null,
   "id": "684d1670-a1df-4fef-8bd8-f0ac4716146e",
   "metadata": {},
   "outputs": [],
   "source": [
    "# list all the files in the data folder\n",
    "glob.glob(data_path + '*')"
   ]
  },
  {
   "cell_type": "code",
   "execution_count": 17,
   "id": "03a6ff37-7aa9-4aba-b5cc-37d3144d25b7",
   "metadata": {},
   "outputs": [],
   "source": [
    "map_path = glob.glob(data_path + '*ABC_36*' + '*Data*')[0]\n",
    "info_path = glob.glob(data_path + '*ABC_36*' + '*Information*')[0]"
   ]
  },
  {
   "cell_type": "markdown",
   "id": "334490cc-47bc-474d-b8d6-906a7931e44f",
   "metadata": {},
   "source": [
    "Load the Raman map by passing the path of the map file and the info file to the `ramanmap` class. Let's call it `m`."
   ]
  },
  {
   "cell_type": "code",
   "execution_count": 73,
   "id": "6d48cc4b-e1c6-4bae-aab7-c8c7790bd5f1",
   "metadata": {},
   "outputs": [],
   "source": [
    "m = rt.ramanmap(map_path, info_path)"
   ]
  },
  {
   "cell_type": "markdown",
   "id": "071d5de5-0bd3-4d96-8529-0e08702cbae7",
   "metadata": {},
   "source": [
    "This returns a `ramanmap` object, which contains as variables:\n",
    "- the raw imported, Raman measurements are stored in: `m.map`\n",
    "- all the metadata in: `m.metadata`. The `m.print_metadata()` function, prints the contents of the info file.\n",
    "- The Raman shift of the measurement is stored in `m.ramanshift`"
   ]
  },
  {
   "cell_type": "markdown",
   "id": "ac6d1d7e-8213-4543-a520-5406e85e5682",
   "metadata": {},
   "source": [
    "In addition to the above, the `ramanmap` object, called `m` in this example has the following vaiables, mostly containing the measurement metadata."
   ]
  },
  {
   "cell_type": "code",
   "execution_count": 83,
   "id": "95fbf0a0-53bd-42e5-8d78-d81db9070c0f",
   "metadata": {},
   "outputs": [
    {
     "data": {
      "text/plain": [
       "['metadata',\n",
       " 'mapname',\n",
       " 'pixel_x',\n",
       " 'pixel_y',\n",
       " 'size_x',\n",
       " 'size_y',\n",
       " 'date',\n",
       " 'time',\n",
       " 'samplename',\n",
       " 'laser',\n",
       " 'itime',\n",
       " 'grating',\n",
       " 'objname',\n",
       " 'objmagn',\n",
       " 'positioner_x',\n",
       " 'positioner_y',\n",
       " 'ramanshift',\n",
       " 'map']"
      ]
     },
     "execution_count": 83,
     "metadata": {},
     "output_type": "execute_result"
    }
   ],
   "source": [
    "list(m.__dict__)"
   ]
  },
  {
   "cell_type": "code",
   "execution_count": 87,
   "id": "385320af-8e5d-446d-b2b0-26ceca09dd55",
   "metadata": {},
   "outputs": [
    {
     "data": {
      "text/plain": [
       "array([-639.473, -635.679, -631.886, ..., 4014.87 , 4017.1  , 4019.33 ])"
      ]
     },
     "execution_count": 87,
     "metadata": {},
     "output_type": "execute_result"
    }
   ],
   "source": [
    "m.ramanshift"
   ]
  },
  {
   "cell_type": "code",
   "execution_count": null,
   "id": "4f4509f3-7a99-4da0-ac6d-46895445f41c",
   "metadata": {},
   "outputs": [],
   "source": []
  }
 ],
 "metadata": {
  "kernelspec": {
   "display_name": "Python 3 (ipykernel)",
   "language": "python",
   "name": "python3"
  },
  "language_info": {
   "codemirror_mode": {
    "name": "ipython",
    "version": 3
   },
   "file_extension": ".py",
   "mimetype": "text/x-python",
   "name": "python",
   "nbconvert_exporter": "python",
   "pygments_lexer": "ipython3",
   "version": "3.10.9"
  }
 },
 "nbformat": 4,
 "nbformat_minor": 5
}
